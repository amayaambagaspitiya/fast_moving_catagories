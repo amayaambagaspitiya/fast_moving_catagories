{
 "cells": [
  {
   "cell_type": "code",
   "execution_count": 1,
   "id": "555eefca-fc48-4e46-9679-d03e7dd8910a",
   "metadata": {},
   "outputs": [
    {
     "name": "stdout",
     "output_type": "stream",
     "text": [
      "2024-07-07 21:58:32,026 - sample_usecase - INFO - Loading Data Sources\n",
      "2024-07-07 21:58:37,024 - sample_usecase - INFO - Loaded transaction data\n",
      "2024-07-07 21:58:37,288 - sample_usecase - INFO - Loaded item info details data\n",
      "2024-07-07 21:58:37,926 - sample_usecase - INFO - Loaded store details data\n",
      "2024-07-07 21:58:37,929 - sample_usecase - INFO - Loaded data successful. start time: 2024-07-07 21:58:32.026731 end time: 2024-07-07 21:58:37.929041\n",
      "2024-07-07 21:58:38,137 - sample_usecase - INFO - Loaded pre-process transaction data\n",
      "2024-07-07 21:58:38,175 - sample_usecase - INFO - Loaded pre-process store details data\n",
      "2024-07-07 21:58:38,214 - sample_usecase - INFO - Loaded pre-process item details data\n",
      "2024-07-07 21:58:43,152 - sample_usecase - INFO - Loaded weekly sales details data\n",
      "2024-07-07 21:58:43,182 - sample_usecase - INFO - Loaded select the week column and order process transaction data\n",
      "2024-07-07 21:58:43,198 - sample_usecase - INFO - Loaded filtered needed outlet data\n"
     ]
    },
    {
     "ename": "TypeError",
     "evalue": "'DataFrame' object is not callable",
     "output_type": "error",
     "traceback": [
      "\u001b[1;31m---------------------------------------------------------------------------\u001b[0m",
      "\u001b[1;31mTypeError\u001b[0m                                 Traceback (most recent call last)",
      "File \u001b[1;32m~\\AppData\\Local\\Temp\\ipykernel_29988\\2155432292.py:8\u001b[0m\n\u001b[0;32m      6\u001b[0m preprocess_item_info_df\u001b[38;5;241m=\u001b[39mpreprocess_item_info(conf,item_df) \u001b[38;5;66;03m#getting info related to : Grocery, Beverages, Chilled \u001b[39;00m\n\u001b[0;32m      7\u001b[0m \u001b[38;5;66;03m#top_5_categories=top_5_categories(preprocess_transaction_df, preprocess_item_info_df) #top 5 categories related to each department\u001b[39;00m\n\u001b[1;32m----> 8\u001b[0m weekly_sales_df\u001b[38;5;241m=\u001b[39mweekly_sales_df(preprocess_transaction_df, preprocess_item_info_df) \u001b[38;5;66;03m#weekly sales for top 15 categories\u001b[39;00m\n\u001b[0;32m      9\u001b[0m week_df\u001b[38;5;241m=\u001b[39mget_week_df(preprocess_transaction_df) \u001b[38;5;66;03m# Dataframe with all the distinct weeks\u001b[39;00m\n\u001b[0;32m     10\u001b[0m outlet_df\u001b[38;5;241m=\u001b[39moutlets_df(preprocess_store_info_df)\n",
      "\u001b[1;31mTypeError\u001b[0m: 'DataFrame' object is not callable"
     ]
    },
    {
     "ename": "TypeError",
     "evalue": "'DataFrame' object is not callable",
     "output_type": "error",
     "traceback": [
      "\u001b[1;31m---------------------------------------------------------------------------\u001b[0m",
      "\u001b[1;31mTypeError\u001b[0m                                 Traceback (most recent call last)",
      "Cell \u001b[1;32mIn[1], line 1\u001b[0m\n\u001b[1;32m----> 1\u001b[0m get_ipython()\u001b[38;5;241m.\u001b[39mrun_line_magic(\u001b[38;5;124m'\u001b[39m\u001b[38;5;124mrun\u001b[39m\u001b[38;5;124m'\u001b[39m, \u001b[38;5;124m'\u001b[39m\u001b[38;5;124m\"\u001b[39m\u001b[38;5;124mC:\u001b[39m\u001b[38;5;130;01m\\\\\u001b[39;00m\u001b[38;5;124mUsers\u001b[39m\u001b[38;5;130;01m\\\\\u001b[39;00m\u001b[38;5;124mamayaa\u001b[39m\u001b[38;5;130;01m\\\\\u001b[39;00m\u001b[38;5;124mOneDrive - John Keells Holdings PLC\u001b[39m\u001b[38;5;130;01m\\\\\u001b[39;00m\u001b[38;5;124mDesktop\u001b[39m\u001b[38;5;130;01m\\\\\u001b[39;00m\u001b[38;5;124msampleuc\u001b[39m\u001b[38;5;130;01m\\\\\u001b[39;00m\u001b[38;5;124mpipelines\u001b[39m\u001b[38;5;130;01m\\\\\u001b[39;00m\u001b[38;5;124m0.1_create_mastertable.ipynb\u001b[39m\u001b[38;5;124m\"\u001b[39m\u001b[38;5;124m'\u001b[39m)\n",
      "File \u001b[1;32m~\\AppData\\Local\\anaconda3\\Lib\\site-packages\\IPython\\core\\interactiveshell.py:2456\u001b[0m, in \u001b[0;36mInteractiveShell.run_line_magic\u001b[1;34m(self, magic_name, line, _stack_depth)\u001b[0m\n\u001b[0;32m   2454\u001b[0m     kwargs[\u001b[38;5;124m'\u001b[39m\u001b[38;5;124mlocal_ns\u001b[39m\u001b[38;5;124m'\u001b[39m] \u001b[38;5;241m=\u001b[39m \u001b[38;5;28mself\u001b[39m\u001b[38;5;241m.\u001b[39mget_local_scope(stack_depth)\n\u001b[0;32m   2455\u001b[0m \u001b[38;5;28;01mwith\u001b[39;00m \u001b[38;5;28mself\u001b[39m\u001b[38;5;241m.\u001b[39mbuiltin_trap:\n\u001b[1;32m-> 2456\u001b[0m     result \u001b[38;5;241m=\u001b[39m fn(\u001b[38;5;241m*\u001b[39margs, \u001b[38;5;241m*\u001b[39m\u001b[38;5;241m*\u001b[39mkwargs)\n\u001b[0;32m   2458\u001b[0m \u001b[38;5;66;03m# The code below prevents the output from being displayed\u001b[39;00m\n\u001b[0;32m   2459\u001b[0m \u001b[38;5;66;03m# when using magics with decorator @output_can_be_silenced\u001b[39;00m\n\u001b[0;32m   2460\u001b[0m \u001b[38;5;66;03m# when the last Python token in the expression is a ';'.\u001b[39;00m\n\u001b[0;32m   2461\u001b[0m \u001b[38;5;28;01mif\u001b[39;00m \u001b[38;5;28mgetattr\u001b[39m(fn, magic\u001b[38;5;241m.\u001b[39mMAGIC_OUTPUT_CAN_BE_SILENCED, \u001b[38;5;28;01mFalse\u001b[39;00m):\n",
      "File \u001b[1;32m~\\AppData\\Local\\anaconda3\\Lib\\site-packages\\IPython\\core\\magics\\execution.py:737\u001b[0m, in \u001b[0;36mExecutionMagics.run\u001b[1;34m(self, parameter_s, runner, file_finder)\u001b[0m\n\u001b[0;32m    735\u001b[0m     \u001b[38;5;28;01mwith\u001b[39;00m preserve_keys(\u001b[38;5;28mself\u001b[39m\u001b[38;5;241m.\u001b[39mshell\u001b[38;5;241m.\u001b[39muser_ns, \u001b[38;5;124m'\u001b[39m\u001b[38;5;124m__file__\u001b[39m\u001b[38;5;124m'\u001b[39m):\n\u001b[0;32m    736\u001b[0m         \u001b[38;5;28mself\u001b[39m\u001b[38;5;241m.\u001b[39mshell\u001b[38;5;241m.\u001b[39muser_ns[\u001b[38;5;124m'\u001b[39m\u001b[38;5;124m__file__\u001b[39m\u001b[38;5;124m'\u001b[39m] \u001b[38;5;241m=\u001b[39m filename\n\u001b[1;32m--> 737\u001b[0m         \u001b[38;5;28mself\u001b[39m\u001b[38;5;241m.\u001b[39mshell\u001b[38;5;241m.\u001b[39msafe_execfile_ipy(filename, raise_exceptions\u001b[38;5;241m=\u001b[39m\u001b[38;5;28;01mTrue\u001b[39;00m)\n\u001b[0;32m    738\u001b[0m     \u001b[38;5;28;01mreturn\u001b[39;00m\n\u001b[0;32m    740\u001b[0m \u001b[38;5;66;03m# Control the response to exit() calls made by the script being run\u001b[39;00m\n",
      "File \u001b[1;32m~\\AppData\\Local\\anaconda3\\Lib\\site-packages\\IPython\\core\\interactiveshell.py:2981\u001b[0m, in \u001b[0;36mInteractiveShell.safe_execfile_ipy\u001b[1;34m(self, fname, shell_futures, raise_exceptions)\u001b[0m\n\u001b[0;32m   2979\u001b[0m result \u001b[38;5;241m=\u001b[39m \u001b[38;5;28mself\u001b[39m\u001b[38;5;241m.\u001b[39mrun_cell(cell, silent\u001b[38;5;241m=\u001b[39m\u001b[38;5;28;01mTrue\u001b[39;00m, shell_futures\u001b[38;5;241m=\u001b[39mshell_futures)\n\u001b[0;32m   2980\u001b[0m \u001b[38;5;28;01mif\u001b[39;00m raise_exceptions:\n\u001b[1;32m-> 2981\u001b[0m     result\u001b[38;5;241m.\u001b[39mraise_error()\n\u001b[0;32m   2982\u001b[0m \u001b[38;5;28;01melif\u001b[39;00m \u001b[38;5;129;01mnot\u001b[39;00m result\u001b[38;5;241m.\u001b[39msuccess:\n\u001b[0;32m   2983\u001b[0m     \u001b[38;5;28;01mbreak\u001b[39;00m\n",
      "File \u001b[1;32m~\\AppData\\Local\\anaconda3\\Lib\\site-packages\\IPython\\core\\interactiveshell.py:294\u001b[0m, in \u001b[0;36mExecutionResult.raise_error\u001b[1;34m(self)\u001b[0m\n\u001b[0;32m    292\u001b[0m     \u001b[38;5;28;01mraise\u001b[39;00m \u001b[38;5;28mself\u001b[39m\u001b[38;5;241m.\u001b[39merror_before_exec\n\u001b[0;32m    293\u001b[0m \u001b[38;5;28;01mif\u001b[39;00m \u001b[38;5;28mself\u001b[39m\u001b[38;5;241m.\u001b[39merror_in_exec \u001b[38;5;129;01mis\u001b[39;00m \u001b[38;5;129;01mnot\u001b[39;00m \u001b[38;5;28;01mNone\u001b[39;00m:\n\u001b[1;32m--> 294\u001b[0m     \u001b[38;5;28;01mraise\u001b[39;00m \u001b[38;5;28mself\u001b[39m\u001b[38;5;241m.\u001b[39merror_in_exec\n",
      "    \u001b[1;31m[... skipping hidden 1 frame]\u001b[0m\n",
      "File \u001b[1;32m~\\AppData\\Local\\Temp\\ipykernel_29988\\2155432292.py:8\u001b[0m\n\u001b[0;32m      6\u001b[0m preprocess_item_info_df\u001b[38;5;241m=\u001b[39mpreprocess_item_info(conf,item_df) \u001b[38;5;66;03m#getting info related to : Grocery, Beverages, Chilled \u001b[39;00m\n\u001b[0;32m      7\u001b[0m \u001b[38;5;66;03m#top_5_categories=top_5_categories(preprocess_transaction_df, preprocess_item_info_df) #top 5 categories related to each department\u001b[39;00m\n\u001b[1;32m----> 8\u001b[0m weekly_sales_df\u001b[38;5;241m=\u001b[39mweekly_sales_df(preprocess_transaction_df, preprocess_item_info_df) \u001b[38;5;66;03m#weekly sales for top 15 categories\u001b[39;00m\n\u001b[0;32m      9\u001b[0m week_df\u001b[38;5;241m=\u001b[39mget_week_df(preprocess_transaction_df) \u001b[38;5;66;03m# Dataframe with all the distinct weeks\u001b[39;00m\n\u001b[0;32m     10\u001b[0m outlet_df\u001b[38;5;241m=\u001b[39moutlets_df(preprocess_store_info_df)\n",
      "\u001b[1;31mTypeError\u001b[0m: 'DataFrame' object is not callable"
     ]
    }
   ],
   "source": [
    "%run \"C:\\Users\\amayaa\\OneDrive - John Keells Holdings PLC\\Desktop\\sampleuc\\pipelines\\0.1_create_mastertable.ipynb\""
   ]
  },
  {
   "cell_type": "markdown",
   "id": "ff1d76d0-94b7-47a2-8100-2b9c2c3cf881",
   "metadata": {},
   "source": [
    "# MAPE For Store | Item Category | Week"
   ]
  },
  {
   "cell_type": "code",
   "execution_count": null,
   "id": "3dd6cae8-4341-470c-9ff9-f9f53b48787d",
   "metadata": {},
   "outputs": [],
   "source": [
    "try:\n",
    "    mape_store_item_week=(\n",
    "        add_absolute_error_and_calculate_mape(train_model_and_predict)\n",
    "    ) #get the absolute errror for each and calculate the mape\n",
    "    module_logger.info(\"calculate MAPE Store | Item Category | Week\")\n",
    "except Exception as e:\n",
    "   error_message = \"MAPE For Store | Item Category | Week\"\n",
    "   module_logger.error(error_message)\n",
    "   save_logs(module_logs_driver, module_logs_filestore)\n",
    "   raise e(error_message)\n",
    "\n",
    "    "
   ]
  },
  {
   "cell_type": "code",
   "execution_count": null,
   "id": "cb1b9315-d822-4127-8e1a-763b5b85901e",
   "metadata": {},
   "outputs": [],
   "source": [
    "mape_store_item_week"
   ]
  },
  {
   "cell_type": "markdown",
   "id": "999b1711-dd3c-483d-982c-0dec34aaab40",
   "metadata": {},
   "source": [
    "# MAPE For Store | Department | Week"
   ]
  },
  {
   "cell_type": "code",
   "execution_count": null,
   "id": "3f8f491b-4296-4c07-8ae4-bfc3c9cd17cf",
   "metadata": {},
   "outputs": [],
   "source": [
    "try:\n",
    "  prediction_with_department=(\n",
    "      process_predictions_with_department_info(train_model_and_predict,preprocess_item_info_df)\n",
    "  )\n",
    "except Exception as e:\n",
    "   error_message = \"MAPE For Store | Department | Week\"\n",
    "   module_logger.error(error_message)\n",
    "   save_logs(module_logs_driver, module_logs_filestore)\n",
    "   raise e(error_message)"
   ]
  },
  {
   "cell_type": "code",
   "execution_count": null,
   "id": "84343ccb-37a7-4545-9a88-45e3a2880818",
   "metadata": {},
   "outputs": [],
   "source": [
    "mape_store_dept_week=add_absolute_error_and_calculate_mape(prediction_with_department)"
   ]
  },
  {
   "cell_type": "code",
   "execution_count": null,
   "id": "30d6eac1-59b3-4628-a02b-3fb4438e9b02",
   "metadata": {},
   "outputs": [],
   "source": [
    "mape_store_dept_week"
   ]
  },
  {
   "cell_type": "code",
   "execution_count": null,
   "id": "31ca7446-e05b-44e2-84a8-da63da3508e4",
   "metadata": {},
   "outputs": [],
   "source": []
  }
 ],
 "metadata": {
  "kernelspec": {
   "display_name": "Python 3 (ipykernel)",
   "language": "python",
   "name": "python3"
  },
  "language_info": {
   "codemirror_mode": {
    "name": "ipython",
    "version": 3
   },
   "file_extension": ".py",
   "mimetype": "text/x-python",
   "name": "python",
   "nbconvert_exporter": "python",
   "pygments_lexer": "ipython3",
   "version": "3.11.7"
  }
 },
 "nbformat": 4,
 "nbformat_minor": 5
}
