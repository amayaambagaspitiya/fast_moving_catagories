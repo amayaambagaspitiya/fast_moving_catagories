{
 "cells": [
  {
   "cell_type": "code",
   "execution_count": 82,
   "id": "555eefca-fc48-4e46-9679-d03e7dd8910a",
   "metadata": {},
   "outputs": [],
   "source": [
    "%run \"C:\\Users\\amayaa\\OneDrive - John Keells Holdings PLC\\Desktop\\sampleuc\\pipelines\\0.1_create_mastertable.ipynb\""
   ]
  },
  {
   "cell_type": "markdown",
   "id": "ff1d76d0-94b7-47a2-8100-2b9c2c3cf881",
   "metadata": {},
   "source": [
    "# MAPE For Store | Item Category | Week"
   ]
  },
  {
   "cell_type": "code",
   "execution_count": 84,
   "id": "3dd6cae8-4341-470c-9ff9-f9f53b48787d",
   "metadata": {},
   "outputs": [],
   "source": [
    "mape_store_item_week=add_absolute_error_and_calculate_mape(train_model_and_predict) #get the absolute errror for each and calculate the mape"
   ]
  },
  {
   "cell_type": "markdown",
   "id": "999b1711-dd3c-483d-982c-0dec34aaab40",
   "metadata": {},
   "source": [
    "# MAPE For Store | Department | Week"
   ]
  },
  {
   "cell_type": "code",
   "execution_count": 86,
   "id": "3f8f491b-4296-4c07-8ae4-bfc3c9cd17cf",
   "metadata": {},
   "outputs": [],
   "source": [
    "prediction_with_department=process_predictions_with_department_info(train_model_and_predict,preprocess_item_info_df)"
   ]
  },
  {
   "cell_type": "code",
   "execution_count": 95,
   "id": "84343ccb-37a7-4545-9a88-45e3a2880818",
   "metadata": {},
   "outputs": [],
   "source": [
    "mape_store_dept_week=add_absolute_error_and_calculate_mape(prediction_with_department)"
   ]
  },
  {
   "cell_type": "code",
   "execution_count": 96,
   "id": "30d6eac1-59b3-4628-a02b-3fb4438e9b02",
   "metadata": {},
   "outputs": [
    {
     "data": {
      "text/plain": [
       "(DataFrame[week: date, stg_outlet_cd: string, stg_item_dept_desc_txt: string, next_week_qty: double, prediction: double, absolute_error: double],\n",
       " 23.506040752544763)"
      ]
     },
     "execution_count": 96,
     "metadata": {},
     "output_type": "execute_result"
    }
   ],
   "source": [
    "mape_store_dept_week"
   ]
  },
  {
   "cell_type": "code",
   "execution_count": null,
   "id": "31ca7446-e05b-44e2-84a8-da63da3508e4",
   "metadata": {},
   "outputs": [],
   "source": []
  }
 ],
 "metadata": {
  "kernelspec": {
   "display_name": "Python 3 (ipykernel)",
   "language": "python",
   "name": "python3"
  },
  "language_info": {
   "codemirror_mode": {
    "name": "ipython",
    "version": 3
   },
   "file_extension": ".py",
   "mimetype": "text/x-python",
   "name": "python",
   "nbconvert_exporter": "python",
   "pygments_lexer": "ipython3",
   "version": "3.11.7"
  }
 },
 "nbformat": 4,
 "nbformat_minor": 5
}
