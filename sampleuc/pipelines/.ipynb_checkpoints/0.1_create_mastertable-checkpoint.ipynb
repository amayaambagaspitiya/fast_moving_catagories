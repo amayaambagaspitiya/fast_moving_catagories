{
 "cells": [
  {
   "cell_type": "code",
   "execution_count": 35,
   "id": "701a0e9c-e06d-4c7b-bd22-e94fe2d9fc8f",
   "metadata": {},
   "outputs": [],
   "source": [
    "%run \"C:\\Users\\amayaa\\OneDrive - John Keells Holdings PLC\\Desktop\\sampleuc\\src\\common\\utils\\runscipt.ipynb\""
   ]
  },
  {
   "cell_type": "code",
   "execution_count": 37,
   "id": "c37e4faa-f7c3-4d6f-91eb-15b0e9de50a1",
   "metadata": {},
   "outputs": [],
   "source": [
    "%run \"C:\\Users\\amayaa\\OneDrive - John Keells Holdings PLC\\Desktop\\sampleuc\\src\\model\\run_scripts.ipynb\""
   ]
  },
  {
   "cell_type": "code",
   "execution_count": 44,
   "id": "68ef6560-1dfc-4c96-8d76-d47f84c6baa5",
   "metadata": {},
   "outputs": [],
   "source": [
    "%run \"C:\\Users\\amayaa\\OneDrive - John Keells Holdings PLC\\Desktop\\sampleuc\\conf\\conf_script.ipynb\""
   ]
  },
  {
   "cell_type": "markdown",
   "id": "03f54508-fba3-496f-94e6-e86f3479733a",
   "metadata": {},
   "source": [
    "# Preprocessing"
   ]
  },
  {
   "cell_type": "code",
   "execution_count": 47,
   "id": "7907e746-5dfe-4b00-b648-9e4e56cac600",
   "metadata": {},
   "outputs": [
    {
     "ename": "KeyError",
     "evalue": "'logs'",
     "output_type": "error",
     "traceback": [
      "\u001b[1;31m---------------------------------------------------------------------------\u001b[0m",
      "\u001b[1;31mKeyError\u001b[0m                                  Traceback (most recent call last)",
      "Cell \u001b[1;32mIn[47], line 3\u001b[0m\n\u001b[0;32m      1\u001b[0m conf\u001b[38;5;241m=\u001b[39mget_conf()\n\u001b[1;32m----> 3\u001b[0m module_logs_filestore, module_logs_driver, module_logger \u001b[38;5;241m=\u001b[39m loggers(conf)\n",
      "File \u001b[1;32m~\\AppData\\Local\\Temp\\ipykernel_18040\\271744728.py:8\u001b[0m, in \u001b[0;36mloggers\u001b[1;34m(conf)\u001b[0m\n\u001b[0;32m      1\u001b[0m \u001b[38;5;28;01mdef\u001b[39;00m \u001b[38;5;21mloggers\u001b[39m(conf):\n\u001b[0;32m      2\u001b[0m \u001b[38;5;250m    \u001b[39m\u001b[38;5;124;03m\"\"\"\u001b[39;00m\n\u001b[0;32m      3\u001b[0m \u001b[38;5;124;03m \u001b[39;00m\n\u001b[0;32m      4\u001b[0m \u001b[38;5;124;03m    contains logging related details and paths\u001b[39;00m\n\u001b[0;32m      5\u001b[0m \u001b[38;5;124;03m \u001b[39;00m\n\u001b[0;32m      6\u001b[0m \u001b[38;5;124;03m    \"\"\"\u001b[39;00m\n\u001b[1;32m----> 8\u001b[0m     logging_conf_path \u001b[38;5;241m=\u001b[39m conf[\u001b[38;5;124m\"\u001b[39m\u001b[38;5;124mlogs\u001b[39m\u001b[38;5;124m\"\u001b[39m][\u001b[38;5;124m\"\u001b[39m\u001b[38;5;124mlogger_file\u001b[39m\u001b[38;5;124m\"\u001b[39m]\n\u001b[0;32m      9\u001b[0m     module_conf_name \u001b[38;5;241m=\u001b[39m conf[\u001b[38;5;124m\"\u001b[39m\u001b[38;5;124mlogs\u001b[39m\u001b[38;5;124m\"\u001b[39m][\u001b[38;5;124m\"\u001b[39m\u001b[38;5;124mconf_name\u001b[39m\u001b[38;5;124m\"\u001b[39m]\n\u001b[0;32m     10\u001b[0m     module_logs_filestore \u001b[38;5;241m=\u001b[39m conf[\u001b[38;5;124m\"\u001b[39m\u001b[38;5;124mlogs\u001b[39m\u001b[38;5;124m\"\u001b[39m][\u001b[38;5;124m\"\u001b[39m\u001b[38;5;124mfile_store_path\u001b[39m\u001b[38;5;124m\"\u001b[39m]\n",
      "\u001b[1;31mKeyError\u001b[0m: 'logs'"
     ]
    }
   ],
   "source": [
    "conf=get_conf()\n",
    "\n",
    "module_logs_filestore, module_logs_driver, module_logger = loggers(conf)\n"
   ]
  },
  {
   "cell_type": "code",
   "execution_count": 49,
   "id": "7b2cca00-d375-44cb-bbdf-32860e52043b",
   "metadata": {},
   "outputs": [
    {
     "ename": "KeyError",
     "evalue": "'logs'",
     "output_type": "error",
     "traceback": [
      "\u001b[1;31m---------------------------------------------------------------------------\u001b[0m",
      "\u001b[1;31mKeyError\u001b[0m                                  Traceback (most recent call last)",
      "Cell \u001b[1;32mIn[49], line 1\u001b[0m\n\u001b[1;32m----> 1\u001b[0m conf[\u001b[38;5;124m\"\u001b[39m\u001b[38;5;124mlogs\u001b[39m\u001b[38;5;124m\"\u001b[39m][\u001b[38;5;124m\"\u001b[39m\u001b[38;5;124mlogger_file\u001b[39m\u001b[38;5;124m\"\u001b[39m]\n",
      "\u001b[1;31mKeyError\u001b[0m: 'logs'"
     ]
    }
   ],
   "source": [
    " conf[\"logs\"][\"logger_file\"]"
   ]
  },
  {
   "cell_type": "code",
   "execution_count": 51,
   "id": "882f1ff3-50f3-4028-9eef-15f0f5e40c78",
   "metadata": {},
   "outputs": [
    {
     "ename": "NameError",
     "evalue": "name 'module_logger' is not defined",
     "output_type": "error",
     "traceback": [
      "\u001b[1;31m---------------------------------------------------------------------------\u001b[0m",
      "\u001b[1;31mNameError\u001b[0m                                 Traceback (most recent call last)",
      "Cell \u001b[1;32mIn[51], line 3\u001b[0m\n\u001b[0;32m      2\u001b[0m start_time \u001b[38;5;241m=\u001b[39m datetime\u001b[38;5;241m.\u001b[39mnow()\n\u001b[1;32m----> 3\u001b[0m module_logger\u001b[38;5;241m.\u001b[39minfo(\u001b[38;5;124m\"\u001b[39m\u001b[38;5;124mLoading Data Sources\u001b[39m\u001b[38;5;124m\"\u001b[39m)\n\u001b[0;32m      4\u001b[0m transaction_df \u001b[38;5;241m=\u001b[39m (\n\u001b[0;32m      5\u001b[0m     get_transaction_info(conf) \u001b[38;5;66;03m#getting trasaction table from conf\u001b[39;00m\n\u001b[0;32m      6\u001b[0m )\n",
      "\u001b[1;31mNameError\u001b[0m: name 'module_logger' is not defined",
      "\nDuring handling of the above exception, another exception occurred:\n",
      "\u001b[1;31mNameError\u001b[0m                                 Traceback (most recent call last)",
      "Cell \u001b[1;32mIn[51], line 20\u001b[0m\n\u001b[0;32m     18\u001b[0m \u001b[38;5;28;01mexcept\u001b[39;00m \u001b[38;5;167;01mException\u001b[39;00m \u001b[38;5;28;01mas\u001b[39;00m e:\n\u001b[0;32m     19\u001b[0m   error_message \u001b[38;5;241m=\u001b[39m \u001b[38;5;124m\"\u001b[39m\u001b[38;5;124mLoading Data sources - Unsuccessful\u001b[39m\u001b[38;5;124m\"\u001b[39m\n\u001b[1;32m---> 20\u001b[0m   module_logger\u001b[38;5;241m.\u001b[39merror(error_message)\n\u001b[0;32m     21\u001b[0m   save_logs(module_logs_driver, module_logs_filestore)\n\u001b[0;32m     22\u001b[0m   \u001b[38;5;28;01mraise\u001b[39;00m e(error_message)\n",
      "\u001b[1;31mNameError\u001b[0m: name 'module_logger' is not defined"
     ]
    }
   ],
   "source": [
    "try:\n",
    "  start_time = datetime.now()\n",
    "  module_logger.info(\"Loading Data Sources\")\n",
    "  transaction_df = (\n",
    "      get_transaction_info(conf) #getting trasaction table from conf\n",
    "  )\n",
    "  module_logger.info(\"Loaded transaction data\")\n",
    "  item_df = (\n",
    "      get_item_info(conf) #getting item table from conf\n",
    "  )\n",
    "  module_logger.info(\"Loaded item info details data\")\n",
    "  store_df = (\n",
    "      get_store_info(conf) #getting store table from conf\n",
    "  )\n",
    "  module_logger.info(\"Loaded store details data\")\n",
    "  end_time = datetime.now()\n",
    "  module_logger.info(\"Loaded data successful. start time: {0} end time: {1}\".format(start_time, end_time))\n",
    "except Exception as e:\n",
    "  error_message = \"Loading Data sources - Unsuccessful\"\n",
    "  module_logger.error(error_message)\n",
    "  save_logs(module_logs_driver, module_logs_filestore)\n",
    "  raise e(error_message)"
   ]
  },
  {
   "cell_type": "code",
   "execution_count": null,
   "id": "d8d8cb8a-cf0d-4c77-93c5-de1edb779473",
   "metadata": {},
   "outputs": [],
   "source": [
    "try:\n",
    "  preprocess_transaction_df = (\n",
    "      preprocess_transaction(conf,transaction_df)\n",
    "  )\n",
    "  module_logger.info(\"Loaded pre-process transaction data\")\n",
    "  preprocess_store_info_df = (\n",
    "      preprocess_store_info(store_df)\n",
    "  )\n",
    "  module_logger.info(\"Loaded pre-process store details data\")\n",
    "  preprocess_item_info_df = (\n",
    "      preprocess_item_info(conf,item_df)\n",
    "  )\n",
    "  module_logger.info(\"Loaded pre-process item details data\")\n",
    "except Exception as e:\n",
    "  error_message = \"Loading pre-process Data sources - Unsuccessful\"\n",
    "  module_logger.error(error_message)\n",
    "  save_logs(module_logs_driver, module_logs_filestore)\n",
    "  raise e(error_message)"
   ]
  },
  {
   "cell_type": "code",
   "execution_count": null,
   "id": "20a16f87-0b3b-481e-87c3-0b0cb4715d4e",
   "metadata": {},
   "outputs": [],
   "source": [
    "#top_5_categories=top_5_categories(preprocess_transaction_df, preprocess_item_info_df)"
   ]
  },
  {
   "cell_type": "code",
   "execution_count": null,
   "id": "88a8deb3-f3ff-4835-bd0e-996fb6a1903e",
   "metadata": {},
   "outputs": [],
   "source": [
    "try:\n",
    "  weekly_sales_df = (\n",
    "      weekly_sales_df(preprocess_transaction_df, preprocess_item_info_df)\n",
    "  )\n",
    "  module_logger.info(\"Loaded weekly sales details data\")\n",
    "except Exception as e:\n",
    "  error_message = \"Loading weekly sales - Unsuccessful\"\n",
    "  module_logger.error(error_message)\n",
    "  save_logs(module_logs_driver, module_logs_filestore)\n",
    "  raise e(error_message)"
   ]
  },
  {
   "cell_type": "code",
   "execution_count": null,
   "id": "35cb7f20-1a0f-41a7-8684-bfb6518d3987",
   "metadata": {},
   "outputs": [],
   "source": [
    "try:\n",
    "  week_df = (\n",
    "      get_week_df(preprocess_transaction_df)\n",
    "  )\n",
    "  module_logger.info(\"Loaded select the week column and order process transaction data\")\n",
    "except Exception as e:\n",
    "  error_message = \"Loading ordering pre - process transaction data according to week - Unsuccessful\"\n",
    "  module_logger.error(error_message)\n",
    "  save_logs(module_logs_driver, module_logs_filestore)\n",
    "  raise e(error_message)"
   ]
  },
  {
   "cell_type": "code",
   "execution_count": null,
   "id": "007671f3-f630-4260-af9f-c6068a1c1fd5",
   "metadata": {},
   "outputs": [],
   "source": [
    "try:\n",
    "  outlet_df = (\n",
    "      outlets_df(preprocess_store_info_df)\n",
    "  )\n",
    "  module_logger.info(\"Loaded filtered needed outlet data\")\n",
    "except Exception as e:\n",
    "  error_message = \"Loading filtered needed outlet data - Unsuccessful\"\n",
    "  module_logger.error(error_message)\n",
    "  save_logs(module_logs_driver, module_logs_filestore)\n",
    "  raise e(error_message)"
   ]
  },
  {
   "cell_type": "code",
   "execution_count": 494,
   "id": "54518d4d-7ed5-48ac-a303-9e3f780ec84b",
   "metadata": {},
   "outputs": [],
   "source": [
    "transaction_df=get_transaction_info(conf) #getting trasaction table from conf\n",
    "item_df=get_item_info(conf) #getting item table from conf\n",
    "store_df=get_store_info(conf) #getting store table from conf\n",
    "preprocess_transaction_df=preprocess_transaction(conf,transaction_df) #getting info related to outlet A,B,C and make a week column\n",
    "preprocess_store_info_df=preprocess_store_info(store_df) #getting info related to outlet A,B,C\n",
    "preprocess_item_info_df=preprocess_item_info(conf,item_df) #getting info related to : Grocery, Beverages, Chilled \n",
    "#top_5_categories=top_5_categories(preprocess_transaction_df, preprocess_item_info_df) #top 5 categories related to each department\n",
    "weekly_sales_df=weekly_sales_df(preprocess_transaction_df, preprocess_item_info_df) #weekly sales for top 15 categories\n",
    "week_df=get_week_df(preprocess_transaction_df) # Dataframe with all the distinct weeks\n",
    "outlet_df=outlets_df(preprocess_store_info_df) #Dataframe with A,B,C outlets"
   ]
  },
  {
   "cell_type": "markdown",
   "id": "8617f718-29d0-4f25-be82-76e8fc15b6f8",
   "metadata": {},
   "source": [
    "# Top 5 categories for each Department"
   ]
  },
  {
   "cell_type": "code",
   "execution_count": 496,
   "id": "ceecde01-2f87-4f06-a61f-d377d57ca0ee",
   "metadata": {},
   "outputs": [],
   "source": [
    "top_15_cat_df=get_final_categories(preprocess_transaction_df, preprocess_item_info_df) #final top 15 categories\n"
   ]
  },
  {
   "cell_type": "code",
   "execution_count": null,
   "id": "b755dfa6-84f6-41f1-af58-594591816e2b",
   "metadata": {},
   "outputs": [],
   "source": [
    "try:\n",
    "  top_15_cat_df = (\n",
    "      get_final_categories(preprocess_transaction_df, preprocess_item_info_df)\n",
    "  )\n",
    "  module_logger.info(\"Loaded top fifteen categories data\")\n",
    "except Exception as e:\n",
    "  error_message = \"Loading top fiteen categories data - Unsuccessful\"\n",
    "  module_logger.error(error_message)\n",
    "  save_logs(module_logs_driver, module_logs_filestore)\n",
    "  raise e(error_message)"
   ]
  },
  {
   "cell_type": "markdown",
   "id": "272f3cc8-f03a-48d1-b302-76a20c219516",
   "metadata": {},
   "source": [
    "# Primary Key Table"
   ]
  },
  {
   "cell_type": "code",
   "execution_count": 498,
   "id": "b8b4bed1-68f1-41b4-8c64-6c7f9fdf675d",
   "metadata": {},
   "outputs": [],
   "source": [
    "primary_key_table_df=create_primary_key_table(week_df, top_15_cat_df, outlet_df) #primary key granularity Store | Category | Week"
   ]
  },
  {
   "cell_type": "code",
   "execution_count": null,
   "id": "d492b0b1-2d8a-4b94-a94d-c60a1cc28c81",
   "metadata": {},
   "outputs": [],
   "source": [
    "try:\n",
    "  primary_key_table_df = (\n",
    "      create_primary_key_table(week_df, top_15_cat_df, outlet_df)\n",
    "  )\n",
    "  module_logger.info(\"Loaded create primary key for needed granularity data\")\n",
    "except Exception as e:\n",
    "  error_message = \"Loading create primary key for needed granularity data - Unsuccessful\"\n",
    "  module_logger.error(error_message)\n",
    "  save_logs(module_logs_driver, module_logs_filestore)\n",
    "  raise e(error_message)"
   ]
  },
  {
   "cell_type": "markdown",
   "id": "4d7b6a7e-d6f3-4610-9022-89abfc04f613",
   "metadata": {},
   "source": [
    "# Target Variable"
   ]
  },
  {
   "cell_type": "code",
   "execution_count": 500,
   "id": "fbeee586-5061-4c20-b9b7-1ca7fbc174fb",
   "metadata": {},
   "outputs": [],
   "source": [
    "primary_key_with_weekly_sales_df=primary_key_with_weekly_sales(primary_key_table_df,weekly_sales_df) #joining weekly sales to orimary key table\n",
    "target_variable_df=target_variable(primary_key_with_weekly_sales_df)  #next week sales of each category in each store related to each week"
   ]
  },
  {
   "cell_type": "code",
   "execution_count": null,
   "id": "bff84f33-1162-4295-8238-a810f7d2ea39",
   "metadata": {},
   "outputs": [],
   "source": [
    "try:\n",
    "  primary_key_with_weekly_sales_df = (\n",
    "      primary_key_with_weekly_sales(primary_key_table_df,weekly_sales_df)\n",
    "  )\n",
    "  module_logger.info(\"Loaded primary key with weekly column data\")\n",
    "  target_variable_df = (\n",
    "      target_variable(primary_key_with_weekly_sales_df)\n",
    "  )\n",
    "  module_logger.info(\"Loaded created target varible data\")\n",
    "except Exception as e:\n",
    "  error_message = \"Loading createing target variable - Unsuccessful\"\n",
    "  module_logger.error(error_message)\n",
    "  save_logs(module_logs_driver, module_logs_filestore)\n",
    "  raise e(error_message)"
   ]
  },
  {
   "cell_type": "markdown",
   "id": "dac8181c-8a85-43b3-a3bd-23cf4b79b85c",
   "metadata": {},
   "source": [
    "# Time Features"
   ]
  },
  {
   "cell_type": "code",
   "execution_count": 504,
   "id": "e1e43bee-8c56-4966-8c69-9472406625db",
   "metadata": {},
   "outputs": [],
   "source": [
    "extract_month_year_week_df=extract_month_year_week(primary_key_with_weekly_sales_df) #from primary_key_with_weekly_sales_df extract month,year,week of the year\n",
    "time_features_df=create_seasonal_column(primary_key_with_weekly_sales_df) #seasonal column and above time features as one graph\n"
   ]
  },
  {
   "cell_type": "code",
   "execution_count": null,
   "id": "1fbce4db-a741-45ed-b5fd-4d79d1cc765f",
   "metadata": {},
   "outputs": [],
   "source": [
    "try:\n",
    "  extract_month_year_week_df = (\n",
    "      extract_month_year_week(primary_key_with_weekly_sales_df)\n",
    "  )\n",
    "  module_logger.info(\"Loaded created granularity for month year week data\")\n",
    "  time_features_df = (\n",
    "      create_seasonal_column(primary_key_with_weekly_sales_df)\n",
    "  )\n",
    "  module_logger.info(\"Loaded created sesonal features data\")\n",
    "except Exception as e:\n",
    "  error_message = \"Loading createing granularity and seasonal features - Unsuccessful\"\n",
    "  module_logger.error(error_message)\n",
    "  save_logs(module_logs_driver, module_logs_filestore)\n",
    "  raise e(error_message)"
   ]
  },
  {
   "cell_type": "markdown",
   "id": "990a3d89-5f79-4131-9107-bd23de1d9be7",
   "metadata": {},
   "source": [
    "# Store Features"
   ]
  },
  {
   "cell_type": "code",
   "execution_count": 509,
   "id": "de852632-eaeb-44b3-95ea-6e0b30bc6d94",
   "metadata": {},
   "outputs": [],
   "source": [
    "store_features_df=select_and_filter_store_info(preprocess_store_info_df) #filter stg_population_within_1km_val,stg_outlet_cd,stg_no_of_compet_supermarket_val,stg_outlet_profile_cat,stg_outlet_profile_cat,stg_outlet_cluster_cat\n",
    "store_features_with_primarykey=primary_with_store(primary_key_table_df, preprocess_store_info_df) #joiining store_features with primary key table\n"
   ]
  },
  {
   "cell_type": "code",
   "execution_count": null,
   "id": "f7d1dd8e-bb34-4893-bd68-9e6155394802",
   "metadata": {},
   "outputs": [],
   "source": [
    "try:\n",
    "  store_features_df = (\n",
    "      select_and_filter_store_info(preprocess_store_info_df)\n",
    "  )\n",
    "  module_logger.info(\"Loaded filtered store features data\")\n",
    "  store_features_with_primarykey = (\n",
    "      primary_with_store(primary_key_table_df, preprocess_store_info_df)\n",
    "  )\n",
    "  module_logger.info(\"Loaded created primary key for store features data\")\n",
    "except Exception as e:\n",
    "  error_message = \"Loading filtering and creating primary key for store features data - Unsuccessful\"\n",
    "  module_logger.error(error_message)\n",
    "  save_logs(module_logs_driver, module_logs_filestore)\n",
    "  raise e(error_message)"
   ]
  },
  {
   "cell_type": "markdown",
   "id": "b8ced649-f623-4d67-8663-bb25001f9df9",
   "metadata": {},
   "source": [
    "# Item Features"
   ]
  },
  {
   "cell_type": "code",
   "execution_count": null,
   "id": "6be73774-40c0-4c07-b856-a0ee80c46443",
   "metadata": {},
   "outputs": [],
   "source": [
    "try:\n",
    "  primary_key_table_with_item = (\n",
    "      primary_with_item(primary_key_table_df,preprocess_item_info_df)\n",
    "  )\n",
    "  module_logger.info(\"Joined primary key table and item pre-process data\")\n",
    "  item_features_df = (\n",
    "      calculate_items_per_week(primary_key_table_with_item)\n",
    "  )\n",
    "  module_logger.info(\"Calculated item per week data\")\n",
    "except Exception as e:\n",
    "  error_message = \"Loading joined data frame and calculating item per week data - Unsuccessful\"\n",
    "  module_logger.error(error_message)\n",
    "  save_logs(module_logs_driver, module_logs_filestore)\n",
    "  raise e(error_message)"
   ]
  },
  {
   "cell_type": "markdown",
   "id": "f106c73c-e559-4264-9234-d4a4988b4218",
   "metadata": {},
   "source": [
    "# Sales Features"
   ]
  },
  {
   "cell_type": "code",
   "execution_count": 515,
   "id": "f74571df-6e01-4f86-b7cd-dcd8d1c31837",
   "metadata": {},
   "outputs": [],
   "source": [
    "sales_features_df=calculate_sales_features(primary_key_with_weekly_sales_df) #calculating average sales for last 2,3,4 weeks "
   ]
  },
  {
   "cell_type": "code",
   "execution_count": null,
   "id": "dddb5511-9aa3-442b-8bcb-73ca760af111",
   "metadata": {},
   "outputs": [],
   "source": [
    "try:\n",
    "  sales_features_df = (\n",
    "      calculate_sales_features(primary_key_with_weekly_sales_df)\n",
    "  )\n",
    "  module_logger.info(\"Calculated sales related features data\")\n",
    "except Exception as e:\n",
    "  error_message = \"calculating sales related features data - Unsuccessful\"\n",
    "  module_logger.error(error_message)\n",
    "  save_logs(module_logs_driver, module_logs_filestore)\n",
    "  raise e(error_message)"
   ]
  },
  {
   "cell_type": "markdown",
   "id": "8ed3e653-babb-4ac1-b6d4-0a3111646bc6",
   "metadata": {},
   "source": [
    "# Create Master table"
   ]
  },
  {
   "cell_type": "code",
   "execution_count": 518,
   "id": "2ef21592-cb76-4e7a-9a3f-0da85e3fdbdc",
   "metadata": {},
   "outputs": [],
   "source": [
    "all_features_joined_df=joined_df(store_features_with_primarykey,sales_features_df,item_features_df,time_features_df) #joining all features \n",
    "master_table=create_master_table(all_features_joined_df,target_variable_df) #joining target variable to above joined features dataframe"
   ]
  },
  {
   "cell_type": "code",
   "execution_count": null,
   "id": "ceeede81-aa26-4dea-88a5-ac838045d57d",
   "metadata": {},
   "outputs": [],
   "source": [
    "try:\n",
    "  all_features_joined_df = (\n",
    "      joined_df(store_features_with_primarykey,sales_features_df,item_features_df,time_features_df)\n",
    "  )\n",
    "  module_logger.info(\"Joined all the dataframe data\")\n",
    "  master_table = (\n",
    "      create_master_table(all_features_joined_df,target_variable_df)\n",
    "  )\n",
    "  module_logger.info(\"Loaded created master table data\")\n",
    "  final_master_table = (\n",
    "      drop_first_three_weeks(master_table)\n",
    "  )\n",
    "  module_logger.info(\"Loaded final master dataframe for first three weeks data\")\n",
    "except Exception as e:\n",
    "  error_message = \"calculating sales related features data - Unsuccessful\"\n",
    "  module_logger.error(error_message)\n",
    "  save_logs(module_logs_driver, module_logs_filestore)\n",
    "  raise e(error_message)"
   ]
  },
  {
   "cell_type": "markdown",
   "id": "dfb97ab0-2cce-44d2-a240-2533dca3a5cd",
   "metadata": {},
   "source": [
    "# Encoding"
   ]
  },
  {
   "cell_type": "code",
   "execution_count": 522,
   "id": "1761a140-bde9-4eee-81cc-5b410a8d2ee0",
   "metadata": {},
   "outputs": [],
   "source": [
    "try:\n",
    "  encoding_categorical_data = (\n",
    "      encode_columns(conf, final_master_table)\n",
    "  )\n",
    "  module_logger.info(\"Loaded final encode data for final master dataframe\")\n",
    "except Exception as e:\n",
    "  error_message = \"Loading final encoding for final master dataframe - Unsuccessful\"\n",
    "  module_logger.error(error_message)\n",
    "  save_logs(module_logs_driver, module_logs_filestore)\n",
    "  raise e(error_message)"
   ]
  },
  {
   "cell_type": "markdown",
   "id": "9e446b3a-bd17-49cc-8572-5c64180aff19",
   "metadata": {},
   "source": [
    "# Train Test Split"
   ]
  },
  {
   "cell_type": "code",
   "execution_count": 524,
   "id": "f07a2595-e69e-43bf-8eea-abf75ec91b6e",
   "metadata": {},
   "outputs": [],
   "source": [
    "try:\n",
    "  train_df,test_df = (\n",
    "      split_dataframe_by_rank(encoding_categorical_data)\n",
    "  )\n",
    "  module_logger.info(\"Loaded train test split dataframe\")\n",
    "except Exception as e:\n",
    "  error_message = \"Loading train and test split dataframe - Unsuccessful\"\n",
    "  module_logger.error(error_message)\n",
    "  save_logs(module_logs_driver, module_logs_filestore)\n",
    "  raise e(error_message)"
   ]
  },
  {
   "cell_type": "code",
   "execution_count": 525,
   "id": "f9668d56-11fb-4540-9f0c-8d0fec5c6d71",
   "metadata": {},
   "outputs": [],
   "source": [
    "try:\n",
    "  test_df_final = (\n",
    "      assemble_features(conf,test_df, output_col=\"features\")\n",
    "  )\n",
    "  module_logger.info(\"Loaded applied vector assembler for test data\")\n",
    "except Exception as e:\n",
    "  error_message = \"Loading vector assembler for test data - Unsuccessful\"\n",
    "  module_logger.error(error_message)\n",
    "  save_logs(module_logs_driver, module_logs_filestore)\n",
    "  raise e(error_message)"
   ]
  },
  {
   "cell_type": "code",
   "execution_count": 526,
   "id": "1bdbaeb8-5c77-468b-86f5-bceb11c48338",
   "metadata": {},
   "outputs": [],
   "source": [
    "try:\n",
    " train_df_final = (\n",
    "     assemble_features(conf,train_df, output_col=\"features\")\n",
    " )\n",
    "module_logger.info(\"Loaded applied vector assembler for train data\")\n",
    "except Exception as e:\n",
    "  error_message = \"Loading vector assembler for teat data - Unsuccessful\"\n",
    "  module_logger.error(error_message)\n",
    "  save_logs(module_logs_driver, module_logs_filestore)\n",
    "  raise e(error_message)"
   ]
  },
  {
   "cell_type": "markdown",
   "id": "51b6500f-baa5-4dbc-a219-97de487baa54",
   "metadata": {},
   "source": [
    "# Model Training"
   ]
  },
  {
   "cell_type": "code",
   "execution_count": 529,
   "id": "1e47289a-951f-4c89-9655-64f1c0c27da0",
   "metadata": {},
   "outputs": [],
   "source": [
    "try:\n",
    " train_model_and_predict = (\n",
    "        train_and_predict(\"next_week_qty\",train_df_final,test_df_final)\n",
    "     )\n",
    " module_logger.info(\"fit the data into model\")\n",
    "except Except as e:\n",
    "    error_message-\"model fitting- unsuccesfful\"\n",
    "    module_logger.error(error_message)\n",
    "    save_logs(module_logs_driver, module_logs_filestore)\n",
    "    raise e(error_message)\n",
    "    \n",
    "                   "
   ]
  },
  {
   "cell_type": "code",
   "execution_count": null,
   "id": "51c30968-61d2-460f-a960-fba199cf4dca",
   "metadata": {},
   "outputs": [],
   "source": []
  },
  {
   "cell_type": "markdown",
   "id": "7de10ec2-48f6-4de6-9118-bb345acf2235",
   "metadata": {},
   "source": [
    "# PSI"
   ]
  },
  {
   "cell_type": "code",
   "execution_count": 542,
   "id": "133e8bda-1ad0-4fb2-9d8e-e1148379b9a0",
   "metadata": {},
   "outputs": [],
   "source": [
    "feature_column=test_df_final.select(\"next_week_qty\")"
   ]
  },
  {
   "cell_type": "code",
   "execution_count": null,
   "id": "e6e9c37c-89e0-4d5f-9362-31711d28b8ef",
   "metadata": {},
   "outputs": [],
   "source": [
    "def calculate_vsi(training_data, out_of_sample_data, feature_column, num_bins=10):\n",
    "    \"\"\"\n",
    "    Calculate the Variable Stability Index (VSI) of the dataset.\n",
    "\n",
    "    Parameters:\n",
    "    - conf (dict): Dictionary containing configuration parameters.\n",
    "    - spark (SparkSession): Spark session object.\n",
    "    - training_dataset (DataFrame): DataFrame containing the training dataset.\n",
    "    - out_of_sample_dataset (DataFrame): DataFrame containing the out-of-sample dataset.\n",
    "    - remove_column (str): Name of the column to be removed from the feature list.\n",
    "\n",
    "    Returns:\n",
    "    - df_vsi (DataFrame): DataFrame containing VSI values for each feature.\n",
    "    \"\"\"\n",
    "    # Calculate the bin ranges for the variable\n",
    "    min_value = training_data.agg(f.min(feature_column)).collect()[0][0]\n",
    "    max_value = training_data.agg(f.max(feature_column)).collect()[0][0]\n",
    "    bin_size = (max_value - min_value) / num_bins\n",
    "    # bins = [min_value + i * bin_size for i in range(num_bins)] + [max_value]\n",
    "\n",
    "    # Calculate the distribution of the variable in each dataset\n",
    "    training_data = training_data.select(feature_column).withColumn(\n",
    "        \"bin\",\n",
    "        f.when(f.col(feature_column) == max_value, num_bins - 1).otherwise(\n",
    "            f.floor((f.col(feature_column) - min_value) / bin_size)\n",
    "        ),\n",
    "    )\n",
    "\n",
    "    training_data_dist = training_data.groupBy(\"bin\").agg(\n",
    "        f.count(\"*\").alias(\"count_bin_train\")\n",
    "    )\n",
    "\n",
    "    out_of_sample_data = out_of_sample_data.select(feature_column).withColumn(\n",
    "        \"bin\",\n",
    "        f.when(f.col(feature_column) == max_value, num_bins - 1).otherwise(\n",
    "            f.floor((f.col(feature_column) - min_value) / bin_size)\n",
    "        ),\n",
    "    )\n",
    "\n",
    "    out_of_sample_data_dist = out_of_sample_data.groupBy(\"bin\").agg(\n",
    "        f.count(\"*\").alias(\"count_bin_oos\")\n",
    "    )\n",
    "\n",
    "    # Calculate the percentage of total observations for each datas\n",
    "    total_count_training = training_data.count()\n",
    "    total_count_out_of_sample = out_of_sample_data.count()\n",
    "    training_data_dist = training_data_dist.withColumn(\n",
    "        \"percent_bin_train\", f.col(\"count_bin_train\") / total_count_training\n",
    "    )\n",
    "    out_of_sample_data_dist = out_of_sample_data_dist.withColumn(\n",
    "        \"percent_bin_oos\", f.col(\"count_bin_oos\") / total_count_out_of_sample\n",
    "    )\n",
    "\n",
    "    final_df = training_data_dist.join(out_of_sample_data_dist, on=\"bin\", how=\"left\")\n",
    "\n",
    "    # Calculate the PSI for each bin of the variable\n",
    "    final_df = final_df.withColumn(\n",
    "        \"psi\",\n",
    "        f.when(\n",
    "            (f.col(\"percent_bin_train\") == 0) | (f.col(\"percent_bin_oos\") == 0), 0\n",
    "        ).otherwise(\n",
    "            (f.col(\"percent_bin_oos\") - f.col(\"percent_bin_train\"))\n",
    "            * f.log(f.col(\"percent_bin_oos\") / f.col(\"percent_bin_train\"))\n",
    "        ),\n",
    "    )\n",
    "    vsi = final_df.select(f.sum(\"psi\")).collect()[0][0]\n",
    "\n",
    "    return vsi\n"
   ]
  },
  {
   "cell_type": "code",
   "execution_count": 548,
   "id": "529e1591-64cf-4d2e-94e6-51dab551aebe",
   "metadata": {},
   "outputs": [],
   "source": [
    "psi=calculate_vsi(train_df_final, test_df_final, \"next_week_qty\", num_bins=10)"
   ]
  },
  {
   "cell_type": "code",
   "execution_count": 550,
   "id": "6fad53fc-09f1-4ac9-83e0-e0df47a8c422",
   "metadata": {},
   "outputs": [
    {
     "data": {
      "text/plain": [
       "0.04822192101668851"
      ]
     },
     "execution_count": 550,
     "metadata": {},
     "output_type": "execute_result"
    }
   ],
   "source": [
    "psi"
   ]
  },
  {
   "cell_type": "code",
   "execution_count": null,
   "id": "28b2fd09-372e-43e5-9801-2f8355ceef9a",
   "metadata": {},
   "outputs": [],
   "source": []
  },
  {
   "cell_type": "code",
   "execution_count": null,
   "id": "ed16748d-1c10-4c8d-830e-98ebfd6b5f28",
   "metadata": {},
   "outputs": [],
   "source": []
  }
 ],
 "metadata": {
  "kernelspec": {
   "display_name": "Python 3 (ipykernel)",
   "language": "python",
   "name": "python3"
  },
  "language_info": {
   "codemirror_mode": {
    "name": "ipython",
    "version": 3
   },
   "file_extension": ".py",
   "mimetype": "text/x-python",
   "name": "python",
   "nbconvert_exporter": "python",
   "pygments_lexer": "ipython3",
   "version": "3.11.7"
  }
 },
 "nbformat": 4,
 "nbformat_minor": 5
}
