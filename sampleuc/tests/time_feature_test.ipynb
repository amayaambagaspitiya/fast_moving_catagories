{
 "cells": [
  {
   "cell_type": "code",
   "execution_count": 1,
   "id": "e6756099-53c9-4a2f-af36-8db477f2a678",
   "metadata": {},
   "outputs": [
    {
     "ename": "ModuleNotFoundError",
     "evalue": "No module named 'common'",
     "output_type": "error",
     "traceback": [
      "\u001b[1;31m---------------------------------------------------------------------------\u001b[0m",
      "\u001b[1;31mModuleNotFoundError\u001b[0m                       Traceback (most recent call last)",
      "Cell \u001b[1;32mIn[1], line 3\u001b[0m\n\u001b[0;32m      1\u001b[0m \u001b[38;5;28;01mimport\u001b[39;00m \u001b[38;5;21;01munittest\u001b[39;00m\n\u001b[0;32m      2\u001b[0m \u001b[38;5;28;01mimport\u001b[39;00m \u001b[38;5;21;01mpandas\u001b[39;00m \u001b[38;5;28;01mas\u001b[39;00m \u001b[38;5;21;01mpd\u001b[39;00m\n\u001b[1;32m----> 3\u001b[0m \u001b[38;5;28;01mfrom\u001b[39;00m \u001b[38;5;21;01mcommon\u001b[39;00m\u001b[38;5;21;01m.\u001b[39;00m\u001b[38;5;21;01mfeatures\u001b[39;00m\u001b[38;5;21;01m.\u001b[39;00m\u001b[38;5;21;01mfilteration\u001b[39;00m\u001b[38;5;21;01m.\u001b[39;00m\u001b[38;5;21;01mcommon_filter\u001b[39;00m \u001b[38;5;28;01mimport\u001b[39;00m get_common_date_filter\n\u001b[0;32m      4\u001b[0m \u001b[38;5;28;01mfrom\u001b[39;00m \u001b[38;5;21;01mcommon\u001b[39;00m\u001b[38;5;21;01m.\u001b[39;00m\u001b[38;5;21;01mutils\u001b[39;00m\u001b[38;5;21;01m.\u001b[39;00m\u001b[38;5;21;01mutilities\u001b[39;00m \u001b[38;5;28;01mimport\u001b[39;00m call_conf\n\u001b[0;32m      5\u001b[0m \u001b[38;5;28;01mfrom\u001b[39;00m \u001b[38;5;21;01mpyspark\u001b[39;00m\u001b[38;5;21;01m.\u001b[39;00m\u001b[38;5;21;01mdbutils\u001b[39;00m \u001b[38;5;28;01mimport\u001b[39;00m DBUtils\n",
      "\u001b[1;31mModuleNotFoundError\u001b[0m: No module named 'common'"
     ]
    }
   ],
   "source": [
    "import unittest\n",
    "import pandas as pd\n",
    "from common.features.filteration.common_filter import get_common_date_filter\n",
    "from common.utils.utilities import call_conf\n",
    "from pyspark.dbutils import DBUtils\n",
    "from pyspark.sql import SparkSession\n",
    "\n",
    "spark = SparkSession.builder.getOrCreate()\n",
    "dbutils = DBUtils(spark)\n",
    "conf = call_conf()"
   ]
  },
  {
   "cell_type": "code",
   "execution_count": null,
   "id": "97549a5f-67b3-4d12-8e36-6cdbc377382c",
   "metadata": {},
   "outputs": [],
   "source": [
    "class TestSeasonalColumn(unittest.Testcase):\n",
    "    def test_seasonal_column(self):\n",
    "        df_input = spark.createDataFrame(\n",
    "            pd.DataFrame(\n",
    "                {\n",
    "                    \"week\": [\"2022-02-25\", \"2022-02-25\", \"2022-02-25\"],\n",
    "                    \"stg_item_category_desc_txt\": [\"Cheese Slices\", \"Cheese Slices\", \"Cheese Slices\"],\n",
    "                    \"stg_outlet_cd\": [\"B\", \"A\", \"C\"],\n",
    "                    \"weekly_sales_qty\":[\"11.0\",\"14.0\",\".0\"]\n",
    "                    \n",
    "                }\n",
    "            )\n",
    "        )\n",
    "\n",
    "        df_expected = spark.createDataFrame(\n",
    "            pd.DataFrame(\n",
    "                {\n",
    "                   \"week\": [\"2022-02-25\", \"2022-02-25\", \"2022-04-25\"],\n",
    "                    \"stg_item_category_desc_txt\": [\"Cheese Slices\", \"Cheese Slices\", \"Cheese Slices\"],\n",
    "                    \"stg_outlet_cd\": [\"B\", \"A\", \"C\"],\n",
    "                    \"weekly_sales_qty\":[\"11.0\",\"14.0\",\"0\"],\n",
    "                    \"month\":[\"2\",\"2\",\"4\"],\n",
    "                    \"year\":[\"2022\",\"2022\",\"2022\"],\n",
    "                    \"week_of_year\":[\"8\",\"8\",\"11\"],\n",
    "                    \"is_seasonal\":[\"0\",\"0\",\"1\"]\n",
    "                }\n",
    "            )\n",
    "        )\n",
    "\n",
    "        df_output = create_seasonal_column(\n",
    "            final_df\n",
    "        )\n",
    "\n",
    "        df_expected_pd = (\n",
    "            df_expected.toPandas()\n",
    "            .sort_values([\"stg_outlet_cd\"])\n",
    "            .reset_index(drop=True)\n",
    "        )\n",
    "\n",
    "        df_output_pd = (\n",
    "            df_output.toPandas()\n",
    "            .sort_values([\"stg_outlet_cd\"])\n",
    "            .reset_index(drop=True)\n",
    "        )\n",
    "\n",
    "        # ensuring the columns have the same order\n",
    "        df_output_pd = df_output_pd[df_expected_pd.columns]\n",
    "        pd.testing.assert_frame_equal(df_output_pd, df_expected_pd, check_dtype=False)"
   ]
  },
  {
   "cell_type": "code",
   "execution_count": null,
   "id": "e100df86-ead9-4046-b4b4-0933217ed911",
   "metadata": {},
   "outputs": [],
   "source": [
    "def create_seasonal_column(final_df):\n",
    "    \"\"\"\n",
    "    Creates a binary column indicating if the month is April (seasonal).\n",
    "\n",
    "    Args:\n",
    "        final_df: Input DataFrame containing a \"week\" column.\n",
    "\n",
    "    Returns:\n",
    "        seasonal_col_in_final_df: DataFrame with an additional \"is_seasonal\" column.\n",
    "    \"\"\"\n",
    "    transaction_with_month_week = extract_month_year_week(final_df)\n",
    "    \n",
    "    # Create a binary column indicating if the month is April\n",
    "    seasonal_col_in_final_df = (\n",
    "        transaction_with_month_week\n",
    "        .withColumn(\n",
    "            \"is_seasonal\",\n",
    "            f.when(\n",
    "                f.col(\"month\") == 4, 1).otherwise(0)\n",
    "        )\n",
    "    )\n",
    "                               \n",
    "                              \n",
    "    \n",
    "    return seasonal_col_in_final_df"
   ]
  }
 ],
 "metadata": {
  "kernelspec": {
   "display_name": "Python 3 (ipykernel)",
   "language": "python",
   "name": "python3"
  },
  "language_info": {
   "codemirror_mode": {
    "name": "ipython",
    "version": 3
   },
   "file_extension": ".py",
   "mimetype": "text/x-python",
   "name": "python",
   "nbconvert_exporter": "python",
   "pygments_lexer": "ipython3",
   "version": "3.11.7"
  }
 },
 "nbformat": 4,
 "nbformat_minor": 5
}
