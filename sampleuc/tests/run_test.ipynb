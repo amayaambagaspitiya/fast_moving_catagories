{
 "cells": [
  {
   "cell_type": "code",
   "execution_count": 3,
   "id": "99735e95-5ba7-462a-b8c7-9f6092dda68f",
   "metadata": {},
   "outputs": [
    {
     "ename": "ModuleNotFoundError",
     "evalue": "No module named 'xmlrunner'",
     "output_type": "error",
     "traceback": [
      "\u001b[1;31m---------------------------------------------------------------------------\u001b[0m",
      "\u001b[1;31mModuleNotFoundError\u001b[0m                       Traceback (most recent call last)",
      "Cell \u001b[1;32mIn[3], line 2\u001b[0m\n\u001b[0;32m      1\u001b[0m \u001b[38;5;28;01mimport\u001b[39;00m \u001b[38;5;21;01munittest\u001b[39;00m\n\u001b[1;32m----> 2\u001b[0m \u001b[38;5;28;01mimport\u001b[39;00m \u001b[38;5;21;01mxmlrunner\u001b[39;00m\n\u001b[0;32m      3\u001b[0m \u001b[38;5;28;01mfrom\u001b[39;00m \u001b[38;5;21;01mtests\u001b[39;00m\u001b[38;5;21;01m.\u001b[39;00m\u001b[38;5;21;01mtest_compute_common_date\u001b[39;00m \u001b[38;5;28;01mimport\u001b[39;00m TestSeasonalColumn\n\u001b[0;32m      4\u001b[0m \u001b[38;5;28;01mfrom\u001b[39;00m \u001b[38;5;21;01mtests\u001b[39;00m\u001b[38;5;21;01m.\u001b[39;00m\u001b[38;5;21;01mtest_sales_features\u001b[39;00m \u001b[38;5;28;01mimport\u001b[39;00m TestSalesFeatures\n",
      "\u001b[1;31mModuleNotFoundError\u001b[0m: No module named 'xmlrunner'"
     ]
    }
   ],
   "source": [
    "import unittest\n",
    "import xmlrunner\n",
    "from tests.test_compute_common_date import TestSeasonalColumn\n",
    "from tests.test_sales_features import TestSalesFeatures\n",
    "from tests.test_primary_table import TestPrimaryTable\n",
    "from tests.test_preprocess_item import TestPrimaryTable\n",
    "\n",
    "def run_tests():\n",
    "    test_classes_to_run = [\n",
    "        TestSeasonalColumn,\n",
    "        TestSalesFeatures,\n",
    "        TestPrimaryTable,\n",
    "        TestPreprocessItem\n",
    "        \n",
    "    ]\n",
    "\n",
    "    loader = unittest.TestLoader()\n",
    "    suites_list = []\n",
    "    for test_class in test_classes_to_run:\n",
    "        suite = loader.loadTestsFromTestCase(test_class)\n",
    "        suites_list.append(suite)\n",
    "\n",
    "    all_suite = unittest.TestSuite(suites_list)\n",
    "    runner = xmlrunner.XMLTestRunner(output=\"test_out\")\n",
    "    runner.run(all_suite)\n",
    "\n",
    "\n",
    "run_tests()"
   ]
  },
  {
   "cell_type": "code",
   "execution_count": null,
   "id": "edd7aba0-a11d-4be0-8a3e-5d8bac0e899c",
   "metadata": {},
   "outputs": [],
   "source": []
  }
 ],
 "metadata": {
  "kernelspec": {
   "display_name": "Python 3 (ipykernel)",
   "language": "python",
   "name": "python3"
  },
  "language_info": {
   "codemirror_mode": {
    "name": "ipython",
    "version": 3
   },
   "file_extension": ".py",
   "mimetype": "text/x-python",
   "name": "python",
   "nbconvert_exporter": "python",
   "pygments_lexer": "ipython3",
   "version": "3.11.7"
  }
 },
 "nbformat": 4,
 "nbformat_minor": 5
}
