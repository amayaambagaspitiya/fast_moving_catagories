{
 "cells": [
  {
   "cell_type": "code",
   "execution_count": 1,
   "id": "c4fbf4f3-e48c-4994-b44d-4d0074c783d1",
   "metadata": {},
   "outputs": [
    {
     "ename": "ModuleNotFoundError",
     "evalue": "No module named 'common'",
     "output_type": "error",
     "traceback": [
      "\u001b[1;31m---------------------------------------------------------------------------\u001b[0m",
      "\u001b[1;31mModuleNotFoundError\u001b[0m                       Traceback (most recent call last)",
      "Cell \u001b[1;32mIn[1], line 3\u001b[0m\n\u001b[0;32m      1\u001b[0m \u001b[38;5;28;01mimport\u001b[39;00m \u001b[38;5;21;01munittest\u001b[39;00m\n\u001b[0;32m      2\u001b[0m \u001b[38;5;28;01mimport\u001b[39;00m \u001b[38;5;21;01mpandas\u001b[39;00m \u001b[38;5;28;01mas\u001b[39;00m \u001b[38;5;21;01mpd\u001b[39;00m\n\u001b[1;32m----> 3\u001b[0m \u001b[38;5;28;01mfrom\u001b[39;00m \u001b[38;5;21;01mcommon\u001b[39;00m\u001b[38;5;21;01m.\u001b[39;00m\u001b[38;5;21;01mfeatures\u001b[39;00m\u001b[38;5;21;01m.\u001b[39;00m\u001b[38;5;21;01mfilteration\u001b[39;00m\u001b[38;5;21;01m.\u001b[39;00m\u001b[38;5;21;01mcommon_filter\u001b[39;00m \u001b[38;5;28;01mimport\u001b[39;00m get_common_date_filter\n\u001b[0;32m      4\u001b[0m \u001b[38;5;28;01mfrom\u001b[39;00m \u001b[38;5;21;01mcommon\u001b[39;00m\u001b[38;5;21;01m.\u001b[39;00m\u001b[38;5;21;01mutils\u001b[39;00m\u001b[38;5;21;01m.\u001b[39;00m\u001b[38;5;21;01mutilities\u001b[39;00m \u001b[38;5;28;01mimport\u001b[39;00m call_conf\n\u001b[0;32m      5\u001b[0m \u001b[38;5;28;01mfrom\u001b[39;00m \u001b[38;5;21;01mpyspark\u001b[39;00m\u001b[38;5;21;01m.\u001b[39;00m\u001b[38;5;21;01mdbutils\u001b[39;00m \u001b[38;5;28;01mimport\u001b[39;00m DBUtils\n",
      "\u001b[1;31mModuleNotFoundError\u001b[0m: No module named 'common'"
     ]
    }
   ],
   "source": [
    "import unittest\n",
    "import pandas as pd\n",
    "from common.features.filteration.common_filter import get_common_date_filter\n",
    "from common.utils.utilities import call_conf\n",
    "from pyspark.dbutils import DBUtils\n",
    "from pyspark.sql import SparkSession\n",
    "\n",
    "spark = SparkSession.builder.getOrCreate()\n",
    "dbutils = DBUtils(spark)\n",
    "conf = call_conf()"
   ]
  },
  {
   "cell_type": "code",
   "execution_count": null,
   "id": "2570eba5-5f00-4c98-ac85-efaba5959450",
   "metadata": {},
   "outputs": [],
   "source": [
    "class TestPreprocessItem(unittest.Testcase):\n",
    "    def test_preprocess_item(self):\n",
    "        df_input = spark.createDataFrame(\n",
    "            pd.DataFrame(\n",
    "                {\n",
    "                    \"stg_item_cd\": [\"1016782\", \"94111\", \"839302\", \"908458\"],\n",
    "                    \"stg_item_sub_segment_desc_txt\": [\"Regular\", \"Cheddar\", \"Prepared Meals\", \"Shower Gel\"],\n",
    "                    \"stg_item_segment_desc_txt\": [\"Instant Powdered Chocolate Drinks\", \"Cheddar Cheese\", \"Prepared Meals\", \"Body Cleansing\"],\n",
    "                    \"stg_item_category_desc_txt\":[\"Instant Chocolate Drinks\",\"Chilled\",\"Cheese Blocks\",\"Hand & Body Care\"],\n",
    "                    \"stg_item_dept_desc_txt\":[\"Beverages\",\"Chilled\",\"Grocery\",\"Household\"]\n",
    "                    \n",
    "                }\n",
    "            )\n",
    "        )\n",
    "\n",
    "        df_expected = spark.createDataFrame(\n",
    "            pd.DataFrame(\n",
    "                {\n",
    "                    \"stg_item_cd\": [\"1016782\", \"1016782\", \"839302\"],\n",
    "                    \"stg_item_sub_segment_desc_txt\": [\"Regular\", \"Cheddar\", \"Prepared Meals\"],\n",
    "                    \"stg_item_segment_desc_txt\": [\"Instant Powdered Chocolate Drinks\", \"Cheddar Cheese\", \"Prepared Meals\"],\n",
    "                    \"stg_item_dept_desc_txt\":[\"Beverages\",\"Chilled\",\"Grocery\"]\n",
    "                }\n",
    "            )\n",
    "        )\n",
    "\n",
    "        df_output =  preprocess_item_info(\n",
    "            conf, df_input\n",
    "        )\n",
    "\n",
    "        df_expected_pd = (\n",
    "            df_expected.toPandas()\n",
    "            .sort_values([\"stg_item_cd\"])\n",
    "            .reset_index(drop=True)\n",
    "        )\n",
    "\n",
    "        df_output_pd = (\n",
    "            df_output.toPandas()\n",
    "            .sort_values([\"stg_item_cd\"])\n",
    "            .reset_index(drop=True)\n",
    "        )\n",
    "\n",
    "        # ensuring the columns have the same order\n",
    "        df_output_pd = df_output_pd[df_expected_pd.columns]\n",
    "        pd.testing.assert_frame_equal(df_output_pd, df_expected_pd, check_dtype=False)"
   ]
  },
  {
   "cell_type": "code",
   "execution_count": 5,
   "id": "63a13c4d-d099-44bb-b449-c021ab3e8bcb",
   "metadata": {},
   "outputs": [],
   "source": [
    "def preprocess_item_info(conf,item_info_df):\n",
    "    \"\"\"\n",
    "    preprocess the item info by filtering out Grocery, Beverages, Chilled department when item_info table is given\n",
    "    This function filters item information based on department names given on configuration\n",
    "    \n",
    "    Parameters:\n",
    "    conf (dict): Configuration dictionary containing the list of outlet names to filter.\n",
    "    item_info_df (DataFrame): The input DataFrame containing item infomation data.\n",
    "\n",
    "    Returns:\n",
    "    preprocess_item_info: The preprocessed DataFrame with filtered  data.\n",
    "    \"\"\"\n",
    "    # Filter the DataFrame by department\n",
    "    preprocess_item_info = (\n",
    "        item_info_df\n",
    "        .filter(\n",
    "            f.col(\"stg_item_dept_desc_txt\").isin(conf[\"department_name\"])\n",
    "        )\n",
    "    )\n",
    "    return preprocess_item_info"
   ]
  },
  {
   "cell_type": "code",
   "execution_count": null,
   "id": "e4c02694-35b4-4b9e-8134-a3b6e110e72c",
   "metadata": {},
   "outputs": [],
   "source": []
  }
 ],
 "metadata": {
  "kernelspec": {
   "display_name": "Python 3 (ipykernel)",
   "language": "python",
   "name": "python3"
  },
  "language_info": {
   "codemirror_mode": {
    "name": "ipython",
    "version": 3
   },
   "file_extension": ".py",
   "mimetype": "text/x-python",
   "name": "python",
   "nbconvert_exporter": "python",
   "pygments_lexer": "ipython3",
   "version": "3.11.7"
  }
 },
 "nbformat": 4,
 "nbformat_minor": 5
}
