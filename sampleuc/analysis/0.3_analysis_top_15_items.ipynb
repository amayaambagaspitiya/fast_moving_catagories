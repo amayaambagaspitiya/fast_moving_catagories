{
 "cells": [
  {
   "cell_type": "code",
   "execution_count": 19,
   "id": "a7e34cc0-e96a-4438-ac05-cde215eee1b9",
   "metadata": {},
   "outputs": [],
   "source": [
    "%run \"C:\\Users\\amayaa\\OneDrive - John Keells Holdings PLC\\Desktop\\sampleuc\\src\\common\\utils\\runscipt.ipynb\""
   ]
  },
  {
   "cell_type": "code",
   "execution_count": 21,
   "id": "e752c097-a18a-4c9d-abf1-10e01825ba3e",
   "metadata": {},
   "outputs": [],
   "source": [
    "%run \"C:\\Users\\amayaa\\OneDrive - John Keells Holdings PLC\\Desktop\\sampleuc\\src\\model\\run_scripts.ipynb\""
   ]
  },
  {
   "cell_type": "code",
   "execution_count": 23,
   "id": "5325bd0d-66cc-4976-816b-ef4bb977e9df",
   "metadata": {},
   "outputs": [
    {
     "name": "stdout",
     "output_type": "stream",
     "text": [
      "+-------------+-----------+----------+---------+----------+\n",
      "|stg_outlet_cd|stg_item_cd|   DATE_ID|sales_qty|      week|\n",
      "+-------------+-----------+----------+---------+----------+\n",
      "|            B|       6163|2022-01-27|     12.0|2022-01-21|\n",
      "|            C|     107836|2022-01-25|      5.0|2022-01-21|\n",
      "|            B|     118429|2022-01-22|      1.0|2022-01-21|\n",
      "|            B|     101635|2022-01-26|      5.0|2022-01-21|\n",
      "|            C|       8800|2022-01-25|     14.0|2022-01-21|\n",
      "|            A|        898|2022-01-25|      3.0|2022-01-21|\n",
      "|            A|      13948|2022-01-26|      3.0|2022-01-21|\n",
      "|            C|       3679|2022-01-22|      7.0|2022-01-21|\n",
      "|            A|      11509|2022-01-25|      9.0|2022-01-21|\n",
      "|            C|        898|2022-01-26|    144.0|2022-01-21|\n",
      "|            C|       8800|2022-01-27|     17.0|2022-01-21|\n",
      "|            C|     122767|2022-01-25|      1.0|2022-01-21|\n",
      "|            A|     115846|2022-01-23|     10.0|2022-01-21|\n",
      "|            C|      10852|2022-01-22|      1.0|2022-01-21|\n",
      "|            C|     115846|2022-01-27|      4.0|2022-01-21|\n",
      "|            B|      11509|2022-01-24|      2.0|2022-01-21|\n",
      "|            C|     124414|2022-01-22|      3.0|2022-01-21|\n",
      "|            B|      18223|2022-01-22|    111.0|2022-01-21|\n",
      "|            C|       6748|2022-01-22|      4.0|2022-01-21|\n",
      "|            C|      29653|2022-01-24|      9.0|2022-01-21|\n",
      "+-------------+-----------+----------+---------+----------+\n",
      "only showing top 20 rows\n",
      "\n",
      "+-------+-------------+------------------+----------+-------------------+\n",
      "|summary|stg_outlet_cd|       stg_item_cd|   DATE_ID|          sales_qty|\n",
      "+-------+-------------+------------------+----------+-------------------+\n",
      "|  count|        94513|             94513|     94513|              94513|\n",
      "|   mean|         NULL|60069.547522563036|      NULL|  5.529140816768338|\n",
      "| stddev|         NULL| 47431.08734397359|      NULL| 13.928725119113183|\n",
      "|    min|            A|            100024|2022-01-22|0.03400000184774399|\n",
      "|    max|            C|              9979|2022-10-18|               99.0|\n",
      "+-------+-------------+------------------+----------+-------------------+\n",
      "\n",
      "+-------+-------------+----------------------+---------------------------+-----------------------------+-----------------------------+-----------------------------+--------------------------------+----------------------+----------------------+\n",
      "|summary|stg_outlet_cd|stg_outlet_area_ft_val|stg_outlet_parking_lots_num|stg_population_within_1km_val|stg_population_within_2km_val|stg_population_within_3km_val|stg_no_of_compet_supermarket_val|stg_outlet_profile_cat|stg_outlet_cluster_cat|\n",
      "+-------+-------------+----------------------+---------------------------+-----------------------------+-----------------------------+-----------------------------+--------------------------------+----------------------+----------------------+\n",
      "|  count|            3|                     3|                          3|                            3|                            3|                            3|                               3|                     3|                     3|\n",
      "|   mean|         NULL|               12025.0|         47.666666666666664|           24139.666666666668|            73317.33333333333|                     103010.0|              1.3333333333333333|                  NULL|                  NULL|\n",
      "| stddev|         NULL|      2185.32034265002|          5.859465277082315|             9674.65711709378|            30192.85038437632|            45519.64239754087|              1.1547005383792517|                  NULL|                  NULL|\n",
      "|    min|            A|                 10150|                         41|                        13074|                        40343|                       151628|                               0|                  High|                 Large|\n",
      "|    max|            C|                 14425|                         52|                        31000|                        99609|                        96000|                               2|              Moderate|                Medium|\n",
      "+-------+-------------+----------------------+---------------------------+-----------------------------+-----------------------------+-----------------------------+--------------------------------+----------------------+----------------------+\n",
      "\n",
      "+-------+-----------------+-----------------------------+-------------------------+--------------------------+--------------------------+----------------------+\n",
      "|summary|      stg_item_cd|stg_item_sub_segment_desc_txt|stg_item_segment_desc_txt|stg_item_category_desc_txt|stg_item_sub_dept_desc_txt|stg_item_dept_desc_txt|\n",
      "+-------+-----------------+-----------------------------+-------------------------+--------------------------+--------------------------+----------------------+\n",
      "|  count|            17381|                        17381|                    17381|                     17381|                     17381|                 17381|\n",
      "|   mean|581475.0612998097|                         NULL|                     NULL|                      NULL|                      NULL|                  NULL|\n",
      "| stddev| 429175.027371924|                         NULL|                     NULL|                      NULL|                      NULL|                  NULL|\n",
      "|    min|           100024|                       2 in 1|                   Almond|               Accessories|                Baby Foods|             Beverages|\n",
      "|    max|             null|                       spread|                    Yeast|                     Wines|                   Yoghurt|               Grocery|\n",
      "+-------+-----------------+-----------------------------+-------------------------+--------------------------+--------------------------+----------------------+\n",
      "\n"
     ]
    }
   ],
   "source": [
    "%run \"C:\\Users\\amayaa\\OneDrive - John Keells Holdings PLC\\Desktop\\sampleuc\\analysis\\0.1_checking_missing_values.ipynb\""
   ]
  },
  {
   "cell_type": "code",
   "execution_count": 24,
   "id": "ea401349-2d43-4eb0-b69a-166986bc5418",
   "metadata": {},
   "outputs": [],
   "source": [
    "conf=get_conf()\n",
    "logger = set_logging_conf(conf)\n",
    "transaction_df=get_transaction_info(conf) #getting trasaction table from conf\n",
    "item_df=get_item_info(conf) #getting item table from conf\n",
    "store_df=get_store_info(conf) #getting store table from conf\n",
    "preprocess_transaction_df=preprocess_transaction(conf,transaction_df) \n",
    "preprocess_store_info_df=preprocess_store_info(store_df)\n",
    "preprocess_item_info_df=preprocess_item_info(conf,item_df)\n",
    "top_5_categories=top_5_categories(preprocess_transaction_df, preprocess_item_info_df)\n"
   ]
  },
  {
   "cell_type": "code",
   "execution_count": 25,
   "id": "8a09b222-266c-4324-9db0-63c26dbf5c2c",
   "metadata": {},
   "outputs": [
    {
     "name": "stdout",
     "output_type": "stream",
     "text": [
      "+----------------------+--------------------------+------------------+\n",
      "|stg_item_dept_desc_txt|stg_item_category_desc_txt|   total_sales_qty|\n",
      "+----------------------+--------------------------+------------------+\n",
      "|             Beverages|       Ambient Liquid Milk|           55708.0|\n",
      "|             Beverages|             Powdered Milk|           24177.0|\n",
      "|             Beverages|      Single Consumptio...|           23174.0|\n",
      "|             Beverages|      Multiple Consumpt...|            9682.0|\n",
      "|             Beverages|          Non Flavored Tea|            4208.0|\n",
      "|               Chilled|                Fat Spread|           10671.0|\n",
      "|               Chilled|                      Curd|            5248.0|\n",
      "|               Chilled|                    Butter|            3092.0|\n",
      "|               Chilled|            Whipping Cream|            2025.0|\n",
      "|               Chilled|             Cheese Slices|             696.0|\n",
      "|               Grocery|      Ambient Instant N...|           62770.0|\n",
      "|               Grocery|                      Rice|25310.422015205026|\n",
      "|               Grocery|      Sweet Biscuits & ...|           21563.0|\n",
      "|               Grocery|                  Crackers|           15152.0|\n",
      "|               Grocery|       Sugar Confectionary|           12556.0|\n",
      "+----------------------+--------------------------+------------------+\n",
      "\n"
     ]
    }
   ],
   "source": [
    "top_5_categories.show()"
   ]
  },
  {
   "cell_type": "code",
   "execution_count": 26,
   "id": "a4ec16dc-9c1c-47fd-b8d7-a402754128d3",
   "metadata": {},
   "outputs": [],
   "source": [
    "top_5_categories_stats=get_stats(preprocess_store_info_df)\n"
   ]
  },
  {
   "cell_type": "code",
   "execution_count": 32,
   "id": "da39a8e8-f22f-40ec-b647-308fb016d726",
   "metadata": {},
   "outputs": [
    {
     "name": "stdout",
     "output_type": "stream",
     "text": [
      "+-------+-------------+----------------------+---------------------------+-----------------------------+-----------------------------+-----------------------------+--------------------------------+----------------------+----------------------+\n",
      "|summary|stg_outlet_cd|stg_outlet_area_ft_val|stg_outlet_parking_lots_num|stg_population_within_1km_val|stg_population_within_2km_val|stg_population_within_3km_val|stg_no_of_compet_supermarket_val|stg_outlet_profile_cat|stg_outlet_cluster_cat|\n",
      "+-------+-------------+----------------------+---------------------------+-----------------------------+-----------------------------+-----------------------------+--------------------------------+----------------------+----------------------+\n",
      "|  count|            3|                     3|                          3|                            3|                            3|                            3|                               3|                     3|                     3|\n",
      "|   mean|         NULL|               12025.0|         47.666666666666664|           24139.666666666668|            73317.33333333333|                     103010.0|              1.3333333333333333|                  NULL|                  NULL|\n",
      "| stddev|         NULL|      2185.32034265002|          5.859465277082315|             9674.65711709378|            30192.85038437632|            45519.64239754087|              1.1547005383792517|                  NULL|                  NULL|\n",
      "|    min|            A|                 10150|                         41|                        13074|                        40343|                       151628|                               0|                  High|                 Large|\n",
      "|    max|            C|                 14425|                         52|                        31000|                        99609|                        96000|                               2|              Moderate|                Medium|\n",
      "+-------+-------------+----------------------+---------------------------+-----------------------------+-----------------------------+-----------------------------+--------------------------------+----------------------+----------------------+\n",
      "\n"
     ]
    }
   ],
   "source": [
    "top_5_categories_stats.show()"
   ]
  },
  {
   "cell_type": "code",
   "execution_count": 38,
   "id": "56e9aa44-e62b-4e2b-8678-a22424f6affd",
   "metadata": {},
   "outputs": [
    {
     "name": "stdout",
     "output_type": "stream",
     "text": [
      "+----------------------+------------------+\n",
      "|stg_item_dept_desc_txt|       total_sales|\n",
      "+----------------------+------------------+\n",
      "|             Beverages|          116949.0|\n",
      "|               Chilled|           21732.0|\n",
      "|               Grocery|137351.42201520503|\n",
      "+----------------------+------------------+\n",
      "\n"
     ]
    }
   ],
   "source": [
    "# Aggregate total sales by department\n",
    "dept_sales_df = top_5_categories.groupBy(\"stg_item_dept_desc_txt\").agg(f.sum(\"total_sales_qty\").alias(\"total_sales\"))\n",
    "dept_sales_df.show()"
   ]
  },
  {
   "cell_type": "code",
   "execution_count": 40,
   "id": "5a7ee167-6936-41be-869e-767a8a1214b7",
   "metadata": {},
   "outputs": [
    {
     "data": {
      "image/png": "[encoded data removed]",
      "text/plain": [
       "<Figure size 1000x600 with 1 Axes>"
      ]
     },
     "metadata": {},
     "output_type": "display_data"
    }
   ],
   "source": [
    "# Convert to Pandas DataFrame for plotting\n",
    "dept_sales_pd = dept_sales_df.toPandas()\n",
    "\n",
    "# Plot the bar chart\n",
    "plt.figure(figsize=(10, 6))\n",
    "plt.bar(dept_sales_pd[\"stg_item_dept_desc_txt\"], dept_sales_pd[\"total_sales\"])\n",
    "plt.xlabel('Department')\n",
    "plt.ylabel('Total Sales')\n",
    "plt.title('Total Sales by Department')\n",
    "plt.xticks(rotation=45)\n",
    "plt.show()"
   ]
  },
  {
   "cell_type": "code",
   "execution_count": null,
   "id": "b1928abe-793d-4198-8994-a880f4622383",
   "metadata": {},
   "outputs": [],
   "source": []
  }
 ],
 "metadata": {
  "kernelspec": {
   "display_name": "Python 3 (ipykernel)",
   "language": "python",
   "name": "python3"
  },
  "language_info": {
   "codemirror_mode": {
    "name": "ipython",
    "version": 3
   },
   "file_extension": ".py",
   "mimetype": "text/x-python",
   "name": "python",
   "nbconvert_exporter": "python",
   "pygments_lexer": "ipython3",
   "version": "3.11.7"
  }
 },
 "nbformat": 4,
 "nbformat_minor": 5
}
