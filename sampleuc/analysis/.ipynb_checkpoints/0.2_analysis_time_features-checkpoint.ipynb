{
 "cells": [
  {
   "cell_type": "code",
   "execution_count": 11,
   "id": "412ae011-4d34-4e92-9e8d-bc2db8cccf9d",
   "metadata": {},
   "outputs": [],
   "source": [
    "%run \"C:\\Users\\amayaa\\OneDrive - John Keells Holdings PLC\\Desktop\\sampleuc\\src\\common\\utils\\runscipt.ipynb\""
   ]
  },
  {
   "cell_type": "code",
   "execution_count": 13,
   "id": "c0c49240-886f-4cf5-b85d-3a59cbef6ec1",
   "metadata": {},
   "outputs": [],
   "source": [
    "%run \"C:\\Users\\amayaa\\OneDrive - John Keells Holdings PLC\\Desktop\\sampleuc\\src\\model\\run_scripts.ipynb\""
   ]
  },
  {
   "cell_type": "code",
   "execution_count": 15,
   "id": "fc4641fc-64d0-4284-a78c-1d7ed74fe7bf",
   "metadata": {},
   "outputs": [],
   "source": [
    "def calculate_monthly_sales_stats(weekly_sales):\n",
    "    \"\"\"\n",
    "    Calculates monthly sales statistics from the input DataFrame.\n",
    "        Args:\n",
    "        weekly_sales: Input DataFrame containing sales data.\n",
    "\n",
    "    Returns:\n",
    "        pyspark.sql.DataFrame: DataFrame with aggregated monthly sales statistics.\n",
    "    \"\"\"\n",
    "    transaction_with_month_week = extract_month_year_week(final_df)\n",
    "    \n",
    "    # Calculate monthly sales stats\n",
    "    monthly_sales_stats = (transaction_with_month_week\n",
    "                           .groupBy(\"year\", \"month\")\n",
    "                           .agg(f.sum(\"weekly_sales_qty\").alias(\"total_sales_qty\"))\n",
    "                           )\n",
    "    \n",
    "    return monthly_sales_stats\n",
    "  "
   ]
  },
  {
   "cell_type": "code",
   "execution_count": 17,
   "id": "104b2b2a-8d93-4b22-83ab-6ee2f7a01724",
   "metadata": {},
   "outputs": [],
   "source": [
    "conf=get_conf()\n",
    "#logger = set_logging_conf(conf)\n",
    "transaction_df=get_transaction_info(conf) #getting trasaction table from conf\n",
    "item_df=get_item_info(conf) #getting item table from conf\n",
    "store_df=get_store_info(conf) #getting store table from conf\n",
    "preprocess_transaction_df=preprocess_transaction(conf,transaction_df) \n",
    "preprocess_store_info_df=preprocess_store_info(store_df)\n",
    "preprocess_item_info_df=preprocess_item_info(conf,item_df)\n",
    "#top_5_categories=top_5_categories(preprocess_transaction_df, preprocess_item_info_df)\n",
    "weekly_sales_df=weekly_sales_df(preprocess_transaction_df, preprocess_item_info_df)\n",
    "week_df=get_week_df(preprocess_transaction_df)\n",
    "outlet_df=outlets_df(preprocess_store_info_df)\n",
    "top_15_cat_df=get_final_categories(preprocess_transaction_df, preprocess_item_info_df)\n",
    "primary_key_table_df=create_primary_key_table(week_df, top_15_cat_df, outlet_df)"
   ]
  },
  {
   "cell_type": "code",
   "execution_count": 21,
   "id": "d3c6f7b4-bb24-4507-88bc-811337abf426",
   "metadata": {},
   "outputs": [
    {
     "name": "stdout",
     "output_type": "stream",
     "text": [
      "Columns in primary_key_table: ['week', 'stg_item_category_desc_txt', 'stg_outlet_cd']\n"
     ]
    }
   ],
   "source": [
    "primary_key_with_weekly_sales_df=primary_key_with_weekly_sales(primary_key_table_df,weekly_sales_df)\n",
    "extract_month_year_week_df=extract_month_year_week(primary_key_with_weekly_sales_df)\n",
    "time_features_df=create_seasonal_column(primary_key_with_weekly_sales_df)\n"
   ]
  },
  {
   "cell_type": "code",
   "execution_count": 25,
   "id": "8eaa4be9-dabf-47dc-b732-3fd84278c037",
   "metadata": {},
   "outputs": [
    {
     "name": "stdout",
     "output_type": "stream",
     "text": [
      "+----+-----+------------------+\n",
      "|year|month|   total_sales_qty|\n",
      "+----+-----+------------------+\n",
      "|2022|   10|10508.861000031233|\n",
      "|2022|    2|28081.379001647234|\n",
      "|2022|    7| 36735.84599879384|\n",
      "|2022|    3| 28912.29400008917|\n",
      "|2022|    1|13826.004998743534|\n",
      "|2022|    5| 31567.19600945711|\n",
      "|2022|    6| 29946.16100296378|\n",
      "|2022|    9| 31609.56900011003|\n",
      "|2022|    4|38874.860001951456|\n",
      "|2022|    8|25970.251001417637|\n",
      "+----+-----+------------------+\n",
      "\n"
     ]
    }
   ],
   "source": [
    "monthly_sales_2=extract_month_year_week_df.groupBy(\n",
    "                       \"year\", \"month\"\n",
    "                       ).agg( # Removed extra space here\n",
    "                       f.sum(\"weekly_sales_qty\").alias(\"total_sales_qty\")\n",
    "                       )\n",
    "monthly_sales_2.show()"
   ]
  },
  {
   "cell_type": "markdown",
   "id": "0c889f93-a575-42df-9fea-4d5c1c912112",
   "metadata": {},
   "source": [
    "From above table can see that 4th month has the highest values of sales because of that 4th month is taken as seasonal(1) and other months are not seasonal months(0)"
   ]
  },
  {
   "cell_type": "code",
   "execution_count": 23,
   "id": "76b68d83-75a1-409c-811b-7d1c183cecc5",
   "metadata": {},
   "outputs": [
    {
     "name": "stdout",
     "output_type": "stream",
     "text": [
      "+----------+--------------------------+-------------+----------------+-----+----+------------+-----------+\n",
      "|      week|stg_item_category_desc_txt|stg_outlet_cd|weekly_sales_qty|month|year|week_of_year|is_seasonal|\n",
      "+----------+--------------------------+-------------+----------------+-----+----+------------+-----------+\n",
      "|2022-02-25|             Cheese Slices|            B|            11.0|    2|2022|           8|          0|\n",
      "|2022-02-25|             Cheese Slices|            C|            14.0|    2|2022|           8|          0|\n",
      "|2022-02-25|             Cheese Slices|            A|             0.0|    2|2022|           8|          0|\n",
      "|2022-07-15|             Cheese Slices|            B|             3.0|    7|2022|          28|          0|\n",
      "|2022-07-15|             Cheese Slices|            C|             5.0|    7|2022|          28|          0|\n",
      "|2022-07-15|             Cheese Slices|            A|             2.0|    7|2022|          28|          0|\n",
      "|2022-07-29|             Cheese Slices|            B|             6.0|    7|2022|          30|          0|\n",
      "|2022-07-29|             Cheese Slices|            C|             1.0|    7|2022|          30|          0|\n",
      "|2022-07-29|             Cheese Slices|            A|             1.0|    7|2022|          30|          0|\n",
      "|2022-05-06|             Cheese Slices|            B|             7.0|    5|2022|          18|          0|\n",
      "|2022-05-06|             Cheese Slices|            C|             4.0|    5|2022|          18|          0|\n",
      "|2022-05-06|             Cheese Slices|            A|             0.0|    5|2022|          18|          0|\n",
      "|2022-03-11|             Cheese Slices|            B|            14.0|    3|2022|          10|          0|\n",
      "|2022-03-11|             Cheese Slices|            C|            23.0|    3|2022|          10|          0|\n",
      "|2022-03-11|             Cheese Slices|            A|             0.0|    3|2022|          10|          0|\n",
      "|2022-08-12|             Cheese Slices|            B|             8.0|    8|2022|          32|          0|\n",
      "|2022-08-12|             Cheese Slices|            C|             6.0|    8|2022|          32|          0|\n",
      "|2022-08-12|             Cheese Slices|            A|             0.0|    8|2022|          32|          0|\n",
      "|2022-07-01|             Cheese Slices|            B|             2.0|    7|2022|          26|          0|\n",
      "|2022-07-01|             Cheese Slices|            C|             8.0|    7|2022|          26|          0|\n",
      "+----------+--------------------------+-------------+----------------+-----+----+------------+-----------+\n",
      "only showing top 20 rows\n",
      "\n"
     ]
    }
   ],
   "source": [
    "time_features_df.show()"
   ]
  },
  {
   "cell_type": "code",
   "execution_count": null,
   "id": "5fd35650-4a36-44c8-a375-84432b46516d",
   "metadata": {},
   "outputs": [],
   "source": []
  }
 ],
 "metadata": {
  "kernelspec": {
   "display_name": "Python 3 (ipykernel)",
   "language": "python",
   "name": "python3"
  },
  "language_info": {
   "codemirror_mode": {
    "name": "ipython",
    "version": 3
   },
   "file_extension": ".py",
   "mimetype": "text/x-python",
   "name": "python",
   "nbconvert_exporter": "python",
   "pygments_lexer": "ipython3",
   "version": "3.11.7"
  }
 },
 "nbformat": 4,
 "nbformat_minor": 5
}
