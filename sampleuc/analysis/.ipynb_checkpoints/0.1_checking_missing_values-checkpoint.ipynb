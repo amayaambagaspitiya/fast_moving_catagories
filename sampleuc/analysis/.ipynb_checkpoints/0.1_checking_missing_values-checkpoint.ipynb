{
 "cells": [
  {
   "cell_type": "code",
   "execution_count": 68,
   "id": "baf87f08-095c-4238-baff-6cd8499ba5d0",
   "metadata": {},
   "outputs": [],
   "source": [
    "%run \"C:\\Users\\amayaa\\OneDrive - John Keells Holdings PLC\\Desktop\\sampleuc\\src\\common\\utils\\runscipt.ipynb\""
   ]
  },
  {
   "cell_type": "code",
   "execution_count": 70,
   "id": "02d1981f-6bb6-4ca2-81e9-d98de5d8815a",
   "metadata": {},
   "outputs": [],
   "source": [
    "%run \"C:\\Users\\amayaa\\OneDrive - John Keells Holdings PLC\\Desktop\\sampleuc\\src\\model\\run_scripts.ipynb\""
   ]
  },
  {
   "cell_type": "code",
   "execution_count": 72,
   "id": "5d2e4840-9047-40f3-a2c9-1e7df8e7beab",
   "metadata": {},
   "outputs": [],
   "source": [
    "\n",
    "def check_missing_values(df):\n",
    "    \"\"\"\n",
    "    This function takes a Spark DataFrame as input and returns a DataFrame\n",
    "    containing the count of missing values for each column.\n",
    "\n",
    "    Args:\n",
    "        df (pyspark.sql.DataFrame): Input DataFrame to check for missing values.\n",
    "\n",
    "    Returns:\n",
    "        pyspark.sql.DataFrame: DataFrame with columns \"Column\" and \"MissingValuesCount\".\n",
    "    \"\"\"\n",
    "    # Select the columns to check for missing values\n",
    "    columns = df.columns\n",
    "    \n",
    "    # Create an empty list to store the results\n",
    "    missing_values = []\n",
    "    \n",
    "    # Loop through each column and count the missing values\n",
    "    for column in columns:\n",
    "        missing_count = df.select(f.sum(f.col(column).isNull().cast(\"int\")).alias(\"missing_count\")).collect()[0][\"missing_count\"]\n",
    "        missing_values.append((column, missing_count))\n",
    "    \n",
    "    # Create a new DataFrame with the results\n",
    "    missing_values_df = spark.createDataFrame(missing_values, [\"Column\", \"MissingValuesCount\"])\n",
    "    \n",
    "    return missing_values_df"
   ]
  },
  {
   "cell_type": "code",
   "execution_count": 74,
   "id": "80b193e2-46f3-4306-93c3-5109c611580a",
   "metadata": {},
   "outputs": [],
   "source": [
    "conf=get_conf()\n",
    "#logger = set_logging_conf(conf)\n",
    "transaction_df=get_transaction_info(conf) #getting trasaction table from conf\n",
    "item_df=get_item_info(conf) #getting item table from conf\n",
    "store_df=get_store_info(conf) #getting store table from conf\n",
    "preprocess_transaction_df=preprocess_transaction(conf,transaction_df) \n",
    "preprocess_store_info_df=preprocess_store_info(store_df)\n",
    "preprocess_item_info_df=preprocess_item_info(conf,item_df)\n",
    "#top_5_categories=top_5_categories(preprocess_transaction_df, preprocess_item_info_df)\n",
    "weekly_sales_df=weekly_sales_df(preprocess_transaction_df, preprocess_item_info_df)\n",
    "week_df=get_week_df(preprocess_transaction_df)\n",
    "outlet_df=outlets_df(preprocess_store_info_df)"
   ]
  },
  {
   "cell_type": "code",
   "execution_count": 79,
   "id": "613d1895-f633-4c34-b609-22112eba493c",
   "metadata": {},
   "outputs": [
    {
     "name": "stdout",
     "output_type": "stream",
     "text": [
      "+-------------+-----------+----------+---------+----------+\n",
      "|stg_outlet_cd|stg_item_cd|   DATE_ID|sales_qty|      week|\n",
      "+-------------+-----------+----------+---------+----------+\n",
      "|            B|       6163|2022-01-27|     12.0|2022-01-21|\n",
      "|            C|     107836|2022-01-25|      5.0|2022-01-21|\n",
      "|            B|     118429|2022-01-22|      1.0|2022-01-21|\n",
      "|            B|     101635|2022-01-26|      5.0|2022-01-21|\n",
      "|            C|       8800|2022-01-25|     14.0|2022-01-21|\n",
      "|            A|        898|2022-01-25|      3.0|2022-01-21|\n",
      "|            A|      13948|2022-01-26|      3.0|2022-01-21|\n",
      "|            C|       3679|2022-01-22|      7.0|2022-01-21|\n",
      "|            A|      11509|2022-01-25|      9.0|2022-01-21|\n",
      "|            C|        898|2022-01-26|    144.0|2022-01-21|\n",
      "|            C|       8800|2022-01-27|     17.0|2022-01-21|\n",
      "|            C|     122767|2022-01-25|      1.0|2022-01-21|\n",
      "|            A|     115846|2022-01-23|     10.0|2022-01-21|\n",
      "|            C|      10852|2022-01-22|      1.0|2022-01-21|\n",
      "|            C|     115846|2022-01-27|      4.0|2022-01-21|\n",
      "|            B|      11509|2022-01-24|      2.0|2022-01-21|\n",
      "|            C|     124414|2022-01-22|      3.0|2022-01-21|\n",
      "|            B|      18223|2022-01-22|    111.0|2022-01-21|\n",
      "|            C|       6748|2022-01-22|      4.0|2022-01-21|\n",
      "|            C|      29653|2022-01-24|      9.0|2022-01-21|\n",
      "+-------------+-----------+----------+---------+----------+\n",
      "only showing top 20 rows\n",
      "\n"
     ]
    }
   ],
   "source": [
    "preprocess_transaction_df.show()"
   ]
  },
  {
   "cell_type": "code",
   "execution_count": 81,
   "id": "3120d776-09ca-4328-866a-e07b2cc5d93d",
   "metadata": {},
   "outputs": [],
   "source": [
    " # Select the columns to check for missing values\n",
    "columns = preprocess_transaction_df.columns\n",
    "    \n",
    "    # Create an empty list to store the results\n",
    "missing_values = []\n",
    "    \n",
    "    # Loop through each column and count the missing values\n",
    "for column in columns:\n",
    "    missing_count = preprocess_transaction_df.select(f.sum(f.col(column).isNull().cast(\"int\")).alias(\"missing_count\")).collect()[0][\"missing_count\"]\n",
    "    missing_values.append((column, missing_count))\n",
    "    \n",
    "    # Create a new DataFrame with the results\n",
    "missing_values_df = spark.createDataFrame(missing_values, [\"Column\", \"MissingValuesCount\"])"
   ]
  },
  {
   "cell_type": "markdown",
   "id": "ce75b118-3320-49bd-be95-ff436cdf99c3",
   "metadata": {},
   "source": [
    "# statistics of each table"
   ]
  },
  {
   "cell_type": "code",
   "execution_count": 52,
   "id": "6ae70710-2b51-4e68-b32c-53152072a8a0",
   "metadata": {},
   "outputs": [],
   "source": [
    "def get_stats(df):\n",
    "    \"\"\"\n",
    "    This function takes a Spark DataFrame as input and prints basic statistics\n",
    "    for each numerical column in the DataFrame.\n",
    "\n",
    "    Args:\n",
    "        df (pyspark.sql.DataFrame): Input DataFrame to compute statistics.\n",
    "\n",
    "    Returns:\n",
    "        pyspark.sql.DataFrame: DataFrame containing the statistics.\n",
    "    \"\"\"\n",
    "    # Compute basic statistics\n",
    "    stats_df = df.describe()\n",
    "    return stats_df"
   ]
  },
  {
   "cell_type": "code",
   "execution_count": 56,
   "id": "aa5fb02d-1454-486b-8269-97837cde77e7",
   "metadata": {},
   "outputs": [
    {
     "name": "stdout",
     "output_type": "stream",
     "text": [
      "+-------+-------------+------------------+----------+-------------------+\n",
      "|summary|stg_outlet_cd|       stg_item_cd|   DATE_ID|          sales_qty|\n",
      "+-------+-------------+------------------+----------+-------------------+\n",
      "|  count|        94513|             94513|     94513|              94513|\n",
      "|   mean|         NULL|60069.547522563036|      NULL|  5.529140816768338|\n",
      "| stddev|         NULL| 47431.08734397359|      NULL| 13.928725119113183|\n",
      "|    min|            A|            100024|2022-01-22|0.03400000184774399|\n",
      "|    max|            C|              9979|2022-10-18|               99.0|\n",
      "+-------+-------------+------------------+----------+-------------------+\n",
      "\n"
     ]
    }
   ],
   "source": [
    "transaction_stats=get_stats(preprocess_transaction_df)\n",
    "transaction_stats.show()"
   ]
  },
  {
   "cell_type": "code",
   "execution_count": 60,
   "id": "1141f8fe-b126-443c-925a-34a9939bc045",
   "metadata": {},
   "outputs": [
    {
     "name": "stdout",
     "output_type": "stream",
     "text": [
      "+-------+-------------+----------------------+---------------------------+-----------------------------+-----------------------------+-----------------------------+--------------------------------+----------------------+----------------------+\n",
      "|summary|stg_outlet_cd|stg_outlet_area_ft_val|stg_outlet_parking_lots_num|stg_population_within_1km_val|stg_population_within_2km_val|stg_population_within_3km_val|stg_no_of_compet_supermarket_val|stg_outlet_profile_cat|stg_outlet_cluster_cat|\n",
      "+-------+-------------+----------------------+---------------------------+-----------------------------+-----------------------------+-----------------------------+--------------------------------+----------------------+----------------------+\n",
      "|  count|            3|                     3|                          3|                            3|                            3|                            3|                               3|                     3|                     3|\n",
      "|   mean|         NULL|               12025.0|         47.666666666666664|           24139.666666666668|            73317.33333333333|                     103010.0|              1.3333333333333333|                  NULL|                  NULL|\n",
      "| stddev|         NULL|      2185.32034265002|          5.859465277082315|             9674.65711709378|            30192.85038437632|            45519.64239754087|              1.1547005383792517|                  NULL|                  NULL|\n",
      "|    min|            A|                 10150|                         41|                        13074|                        40343|                       151628|                               0|                  High|                 Large|\n",
      "|    max|            C|                 14425|                         52|                        31000|                        99609|                        96000|                               2|              Moderate|                Medium|\n",
      "+-------+-------------+----------------------+---------------------------+-----------------------------+-----------------------------+-----------------------------+--------------------------------+----------------------+----------------------+\n",
      "\n"
     ]
    }
   ],
   "source": [
    "store_stats=get_stats(preprocess_store_info_df)\n",
    "store_stats.show()"
   ]
  },
  {
   "cell_type": "code",
   "execution_count": 64,
   "id": "5d2e7fb9-70b6-49a5-8f77-9cfd9fe1931a",
   "metadata": {},
   "outputs": [
    {
     "name": "stdout",
     "output_type": "stream",
     "text": [
      "+-------+-----------------+-----------------------------+-------------------------+--------------------------+--------------------------+----------------------+\n",
      "|summary|      stg_item_cd|stg_item_sub_segment_desc_txt|stg_item_segment_desc_txt|stg_item_category_desc_txt|stg_item_sub_dept_desc_txt|stg_item_dept_desc_txt|\n",
      "+-------+-----------------+-----------------------------+-------------------------+--------------------------+--------------------------+----------------------+\n",
      "|  count|            17381|                        17381|                    17381|                     17381|                     17381|                 17381|\n",
      "|   mean|581475.0612998097|                         NULL|                     NULL|                      NULL|                      NULL|                  NULL|\n",
      "| stddev| 429175.027371924|                         NULL|                     NULL|                      NULL|                      NULL|                  NULL|\n",
      "|    min|           100024|                       2 in 1|                   Almond|               Accessories|                Baby Foods|             Beverages|\n",
      "|    max|             null|                       spread|                    Yeast|                     Wines|                   Yoghurt|               Grocery|\n",
      "+-------+-----------------+-----------------------------+-------------------------+--------------------------+--------------------------+----------------------+\n",
      "\n"
     ]
    }
   ],
   "source": [
    "item_stats=get_stats(preprocess_item_info_df)\n",
    "item_stats.show()"
   ]
  },
  {
   "cell_type": "code",
   "execution_count": null,
   "id": "f40a1c9d-7a7f-453f-a35f-adc95fe05b3e",
   "metadata": {},
   "outputs": [],
   "source": []
  }
 ],
 "metadata": {
  "kernelspec": {
   "display_name": "Python 3 (ipykernel)",
   "language": "python",
   "name": "python3"
  },
  "language_info": {
   "codemirror_mode": {
    "name": "ipython",
    "version": 3
   },
   "file_extension": ".py",
   "mimetype": "text/x-python",
   "name": "python",
   "nbconvert_exporter": "python",
   "pygments_lexer": "ipython3",
   "version": "3.11.7"
  }
 },
 "nbformat": 4,
 "nbformat_minor": 5
}
