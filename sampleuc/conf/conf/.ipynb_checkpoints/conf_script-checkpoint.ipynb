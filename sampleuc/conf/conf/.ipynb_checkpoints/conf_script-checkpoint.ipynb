{
 "cells": [
  {
   "cell_type": "code",
   "execution_count": 7,
   "id": "0cf2d4ba-e693-4129-b158-54c45a8362b9",
   "metadata": {},
   "outputs": [],
   "source": [
    "def get_conf():\n",
    "    \"\"\"Paths of 3 datasets transaction, store_info, item_info\"\"\"\n",
    "    conf = {\n",
    "        \"paths\": {\n",
    "            \"transaction\": r\"C:\\Users\\amayaa\\OneDrive - John Keells Holdings PLC\\Desktop\\sampleuc\\dataset\\trx.csv\",\n",
    "            \"store_info\": r\"C:\\Users\\amayaa\\OneDrive - John Keells Holdings PLC\\Desktop\\sampleuc\\dataset\\store_info.csv\",\n",
    "            \"item_info\":  r\"C:\\Users\\amayaa\\OneDrive - John Keells Holdings PLC\\Desktop\\sampleuc\\dataset\\item_info (2).csv\"\n",
    "        },\n",
    "        \"logs\": {\n",
    "            \"conf_name\": \"sample_usecase\",\n",
    "            \"logger_file\": \"C:\\Users\\amayaa\\OneDrive - John Keells Holdings PLC\\Desktop\\sampleuc\\logging.yaml\",\n",
    "            \"driver_path\": \"/databricks/driver/logs/{}\",\n",
    "            \"file_store_path\": \"/FileStore/usecase/lpsprv/logs/{}/\".format(pipeline),\n",
    "        },\n",
    "        \"outlet_name\": [\"A\", \"B\", \"C\"],\n",
    "        \"department_name\":[\"Grocery\", \"Beverages\", \"Chilled\"],\n",
    "        \n",
    "        \"feature_columns\":[\"week_numeric\",\n",
    "                            \"stg_outlet_cd_encoded\",\n",
    "                            \"stg_item_category_desc_txt_encoded\",\n",
    "                            \"number of items_for_each_week\",\n",
    "                            \"avg_last_2_weeks\",\n",
    "                            \"avg_last_3_weeks\",\n",
    "                            \"avg_last_4_weeks\",\n",
    "                            \"month\",\n",
    "                            \"year\",\n",
    "                            \"week_of_year\",\n",
    "                            \"is_seasonal\",\n",
    "                            \"stg_no_of_compet_supermarket_val_encoded\",\n",
    "                            \"stg_population_within_1km_val_encoded\",\n",
    "                            \"stg_outlet_profile_cat_encoded\",\n",
    "                            \"stg_outlet_cluster_cat_encoded\"],\n",
    "         \"columns_to_encode\":[\"stg_outlet_cd\",\n",
    "                             \"stg_item_category_desc_txt\",\n",
    "                             \"stg_no_of_compet_supermarket_val\",\n",
    "                             \"stg_population_within_1km_val\", \n",
    "                             \"stg_outlet_profile_cat\", \n",
    "                             \"stg_outlet_cluster_cat\"]\n",
    "    }\n",
    "    return conf\n"
   ]
  },
  {
   "cell_type": "code",
   "execution_count": 5,
   "id": "18db0c0c-b7a8-4bb1-94dd-fa8a7b86dc05",
   "metadata": {},
   "outputs": [],
   "source": []
  },
  {
   "cell_type": "code",
   "execution_count": 15,
   "id": "b7421574-33ae-46b0-ad8e-df5ffe83dda9",
   "metadata": {},
   "outputs": [
    {
     "data": {
      "text/plain": [
       "{'transaction': 'C:\\\\Users\\\\amayaa\\\\OneDrive - John Keells Holdings PLC\\\\Desktop\\\\sampleuc\\\\dataset\\\\trx.csv',\n",
       " 'store_info': 'C:\\\\Users\\\\amayaa\\\\OneDrive - John Keells Holdings PLC\\\\Desktop\\\\sampleuc\\\\dataset\\\\store_info.csv',\n",
       " 'item_info': 'C:\\\\Users\\\\amayaa\\\\OneDrive - John Keells Holdings PLC\\\\Desktop\\\\sampleuc\\\\dataset\\\\item_info (2).csv'}"
      ]
     },
     "execution_count": 15,
     "metadata": {},
     "output_type": "execute_result"
    }
   ],
   "source": []
  },
  {
   "cell_type": "code",
   "execution_count": null,
   "id": "ef527547-ec03-43a0-bebd-94c22552fc5b",
   "metadata": {},
   "outputs": [],
   "source": []
  }
 ],
 "metadata": {
  "kernelspec": {
   "display_name": "Python 3 (ipykernel)",
   "language": "python",
   "name": "python3"
  },
  "language_info": {
   "codemirror_mode": {
    "name": "ipython",
    "version": 3
   },
   "file_extension": ".py",
   "mimetype": "text/x-python",
   "name": "python",
   "nbconvert_exporter": "python",
   "pygments_lexer": "ipython3",
   "version": "3.11.7"
  }
 },
 "nbformat": 4,
 "nbformat_minor": 5
}
