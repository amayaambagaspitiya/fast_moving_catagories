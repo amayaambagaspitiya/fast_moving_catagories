{
 "cells": [
  {
   "cell_type": "code",
   "execution_count": 1,
   "id": "673cc22b-a3d7-492a-998f-f728ddf7c076",
   "metadata": {},
   "outputs": [],
   "source": [
    "def get_week_df(transaction):\n",
    "    \"\"\"\n",
    "    Extract and return a DataFrame with distinct weeks from the transaction data.\n",
    "\n",
    "    Args:\n",
    "    - transaction: DataFrame, the transaction data containing a 'week' column\n",
    "\n",
    "    Returns:\n",
    "    - DataFrame: A DataFrame with distinct weeks, ordered in ascending order\n",
    "    \"\"\"\n",
    "    weeks_df = (\n",
    "        transaction\n",
    "        .select(\"week\")\n",
    "        .distinct()\n",
    "        .orderBy(f.col(\"week\").asc())\n",
    "    )\n",
    "\n",
    "    return weeks_df"
   ]
  },
  {
   "cell_type": "code",
   "execution_count": 3,
   "id": "cd55f3c2-c4bd-431d-b4ac-89558fcb7825",
   "metadata": {},
   "outputs": [],
   "source": [
    "\n",
    "def outlets_df(preprocess_store_info):\n",
    "    \"\"\"\n",
    "    Extract and return a DataFrame with distinct outlet codes from the store information data.\n",
    "\n",
    "    Args:\n",
    "    - preprocess_store_info: DataFrame, the store information data containing an 'stg_outlet_cd' column\n",
    "\n",
    "    Returns:\n",
    "    - DataFrame: A DataFrame with distinct outlet codes\n",
    "    \"\"\"\n",
    "    outlet_df = preprocess_store_info.select(\"stg_outlet_cd\").distinct()\n",
    "    return outlet_df"
   ]
  },
  {
   "cell_type": "code",
   "execution_count": 5,
   "id": "af44891d-07dd-47c8-8b0a-3c1fcda553c2",
   "metadata": {},
   "outputs": [],
   "source": [
    "def create_primary_key_table(weeks_df, final_categories, outlet):\n",
    "    \"\"\"\n",
    "     takes three DataFrames weeks_df, final_categories, outlet dataframes and performs a cross join on them.\n",
    "    \n",
    "     weeks_df: DataFrame containing distinct weeks\n",
    "     final_categories: DataFrame containing final categories\n",
    "     preprocess_item_info: DataFrame containing filtered store categories\n",
    "     \n",
    "    :return: DataFrame resulting from cross join of the three input DataFrames\n",
    "    \"\"\"\n",
    "    primary_key_table = (\n",
    "        weeks_df\n",
    "        .crossJoin(\n",
    "            final_categories\n",
    "        )\n",
    "        .crossJoin(\n",
    "            outlet\n",
    "        )\n",
    "    )\n",
    "    return primary_key_table"
   ]
  },
  {
   "cell_type": "code",
   "execution_count": null,
   "id": "e77f54eb-ed0f-49fc-95af-4ba6ffa56a89",
   "metadata": {},
   "outputs": [],
   "source": []
  }
 ],
 "metadata": {
  "kernelspec": {
   "display_name": "Python 3 (ipykernel)",
   "language": "python",
   "name": "python3"
  },
  "language_info": {
   "codemirror_mode": {
    "name": "ipython",
    "version": 3
   },
   "file_extension": ".py",
   "mimetype": "text/x-python",
   "name": "python",
   "nbconvert_exporter": "python",
   "pygments_lexer": "ipython3",
   "version": "3.11.7"
  }
 },
 "nbformat": 4,
 "nbformat_minor": 5
}
