{
 "cells": [
  {
   "cell_type": "code",
   "execution_count": 13,
   "id": "cae5f86d-d474-4589-baf1-480d583bd920",
   "metadata": {},
   "outputs": [],
   "source": [
    "def preprocess_transaction(conf: dict, trx):\n",
    "    \"\"\"\n",
    "    Preprocesses the transaction data by filtering and transforming the input DataFrame.\n",
    "\n",
    "    This function filters the transactions based on outlet codes specified in the configuration A,B,C,\n",
    "    adds a 'week' column derived from the 'DATE_ID' column, and orders the data by the 'week' column.\n",
    "\n",
    "    Parameters:\n",
    "    conf (dict): Configuration dictionary containing the list of outlet names to filter.\n",
    "    trx (DataFrame): The input DataFrame containing transaction data.\n",
    "\n",
    "    Returns:\n",
    "    DataFrame: The preprocessed DataFrame with filtered and transformed data.\n",
    "    \"\"\"\n",
    "    trx_info= (\n",
    "          trx\n",
    "          .filter(\n",
    "              trx[\"stg_outlet_cd\"].isin(conf[\"outlet_name\"])\n",
    "          )\n",
    "          .withColumn(\n",
    "              \"week\",\n",
    "              week_start(f.col(\"DATE_ID\"))\n",
    "          )\n",
    "          .orderBy(\"week\")\n",
    "      )\n",
    "    return trx_info"
   ]
  },
  {
   "cell_type": "code",
   "execution_count": 15,
   "id": "03e01d28-6148-43cc-8e29-6ff65d32bafa",
   "metadata": {},
   "outputs": [],
   "source": [
    "#function is return to get the previous friday of the\n",
    "def week_start(date):\n",
    "    \"\"\"\n",
    "    Calculate the start date of the week for a given date.\n",
    "\n",
    "    Args:\n",
    "    - date: Column, the date column for which to calculate the start of the week\n",
    "\n",
    "    Returns:\n",
    "    - Column: The start date of the week (Friday to Thursday) for the given date\n",
    "    \"\"\"\n",
    "    week_start = f.date_sub(f.next_day(date, \"friday\"), 7)\n",
    "    return week_start\n"
   ]
  },
  {
   "cell_type": "code",
   "execution_count": 17,
   "id": "45b95b22-8ed6-4484-855e-dfb5fb1a8b35",
   "metadata": {},
   "outputs": [],
   "source": [
    "def preprocess_item_info(conf,item_info_df):\n",
    "    \"\"\"\n",
    "    preprocess the item info by filtering out Grocery, Beverages, Chilled department when item_info table is given\n",
    "    This function filters item information based on department names given on configuration\n",
    "    \n",
    "    Parameters:\n",
    "    conf (dict): Configuration dictionary containing the list of outlet names to filter.\n",
    "    item_info_df (DataFrame): The input DataFrame containing item infomation data.\n",
    "\n",
    "    Returns:\n",
    "    preprocess_item_info: The preprocessed DataFrame with filtered  data.\n",
    "    \"\"\"\n",
    "    # Filter the DataFrame by department\n",
    "    preprocess_item_info = (\n",
    "        item_info_df\n",
    "        .filter(\n",
    "            f.col(\"stg_item_dept_desc_txt\").isin(conf[\"department_name\"])\n",
    "        )\n",
    "    )\n",
    "    return preprocess_item_info\n",
    "    "
   ]
  },
  {
   "cell_type": "code",
   "execution_count": 19,
   "id": "ac870cbc-8644-41ae-9ae5-dfb9fd3efa11",
   "metadata": {},
   "outputs": [],
   "source": [
    "def preprocess_store_info(store_info):\n",
    "    \"\"\"\n",
    "    Filterout store info based on outlet names specified in configuration.\n",
    "    Parameters:\n",
    "    store_info:Input dataframe where store infomation contains\n",
    "\n",
    "    Returns:\n",
    "    filtered_store_category_df:The preprocessed DataFrame with filtered  data.\n",
    "\n",
    "    \"\"\"\n",
    "    # Filter the DataFrame for rows where 'stg_outlet_cd' is in the specified list\n",
    "    filtered_store_category_df = (\n",
    "        store_info\n",
    "        .filter(f.col(\"stg_outlet_cd\").isin(conf[\"outlet_name\"])\n",
    "               )\n",
    "    )\n",
    "    return filtered_store_category_df"
   ]
  },
  {
   "cell_type": "code",
   "execution_count": null,
   "id": "550a06c4-69ad-4eae-97c4-900a4437e179",
   "metadata": {},
   "outputs": [],
   "source": []
  },
  {
   "cell_type": "code",
   "execution_count": null,
   "id": "d417a603-21a0-4b56-800c-01936159a7b0",
   "metadata": {},
   "outputs": [],
   "source": []
  }
 ],
 "metadata": {
  "kernelspec": {
   "display_name": "Python 3 (ipykernel)",
   "language": "python",
   "name": "python3"
  },
  "language_info": {
   "codemirror_mode": {
    "name": "ipython",
    "version": 3
   },
   "file_extension": ".py",
   "mimetype": "text/x-python",
   "name": "python",
   "nbconvert_exporter": "python",
   "pygments_lexer": "ipython3",
   "version": "3.11.7"
  }
 },
 "nbformat": 4,
 "nbformat_minor": 5
}
