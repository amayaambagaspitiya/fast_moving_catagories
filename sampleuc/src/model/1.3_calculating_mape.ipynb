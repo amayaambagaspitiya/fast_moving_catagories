{
 "cells": [
  {
   "cell_type": "markdown",
   "id": "c1f65016-3c13-4eff-87ea-a9a3ebbdc200",
   "metadata": {},
   "source": [
    "# MAPE For Store | Item Category | Week"
   ]
  },
  {
   "cell_type": "code",
   "execution_count": null,
   "id": "19291502-72cb-4e0f-9446-f80f192a0915",
   "metadata": {},
   "outputs": [],
   "source": []
  },
  {
   "cell_type": "markdown",
   "id": "6ad6d137-8bcd-4069-bde2-5eb43ac906ee",
   "metadata": {},
   "source": [
    "# MAPE For Store | Department | Week"
   ]
  },
  {
   "cell_type": "code",
   "execution_count": 11,
   "id": "a63a8599-93ed-46d7-93a5-86b70db0e909",
   "metadata": {},
   "outputs": [],
   "source": [
    "def process_predictions_with_department_info(\n",
    "    train_model_and_predict,\n",
    "    preprocess_item_info_df\n",
    "):\n",
    "    \"\"\"\n",
    "    Process predictions by joining with department information and aggregating results.\n",
    "\n",
    "    Args:\n",
    "    - train_model_and_predict: DataFrame, the DataFrame containing predictions\n",
    "    - preprocess_item_info_df: DataFrame, the DataFrame containing item and department information\n",
    "\n",
    "    Returns:\n",
    "    - DataFrame: The resulting DataFrame after joining with department info and aggregating results\n",
    "    \"\"\"\n",
    "    # Select necessary columns from item info DataFrame\n",
    "    department_info = preprocess_item_info_df.select(\"stg_item_category_desc_txt\", \"stg_item_dept_desc_txt\")\n",
    "    \n",
    "    # Join predictions with department info\n",
    "    prediction_with_dept = train_model_and_predict.join(\n",
    "        department_info,\n",
    "        on=\"stg_item_category_desc_txt\",\n",
    "        how=\"left\"\n",
    "    )\n",
    "    \n",
    "    # Aggregate results by week, outlet, and department\n",
    "    prediction_with_dept_final = prediction_with_dept.groupBy(\n",
    "        \"week\", \"stg_outlet_cd\", \"stg_item_dept_desc_txt\"\n",
    "    ).agg(\n",
    "        f.sum(\"next_week_qty\").alias(\"next_week_qty\"),\n",
    "        f.sum(\"prediction\").alias(\"prediction\")\n",
    "    )\n",
    "    \n",
    "    return prediction_with_dept_final"
   ]
  },
  {
   "cell_type": "code",
   "execution_count": 26,
   "id": "3f0a7acc-d2e6-408d-b66b-3e2a1e064934",
   "metadata": {},
   "outputs": [],
   "source": [
    "def add_absolute_error_and_calculate_mape(predictions):\n",
    "    \"\"\"\n",
    "    Add an 'absolute_error' column to the DataFrame which calculates the absolute error percentage,\n",
    "    and calculate the mean absolute percentage error (MAPE).\n",
    "\n",
    "    Parameters:\n",
    "    predictions (DataFrame): The input DataFrame containing 'next_week_qty' and 'prediction' columns.\n",
    "\n",
    "    Returns:\n",
    "    float: The mean absolute percentage error (MAPE).\n",
    "    \"\"\"\n",
    "        \n",
    "        predictions_with_error = predictions.withColumn(\n",
    "            \"absolute_error\",\n",
    "            f.abs((f.col(\"next_week_qty\") - f.col(\"prediction\")) / f.col(\"next_week_qty\")) * 100\n",
    "        )\n",
    "\n",
    "        # Calculate MAPE\n",
    "        mape = predictions_with_error.select(f.mean(\"absolute_error\")).collect()[0][0]\n",
    "        logger.info(\"MAPE calculation completed in {:.2f} seconds\".format(time.time() - start_time))\n",
    "\n",
    "        return predictions_with_error, mape\n",
    "      \n",
    "    except Exception as e:\n",
    "        error_message = \"An error occurred while calculating the total MAPE: {}\".format(e)\n",
    "        logger.error(error_message)\n",
    "        raise Exception(error_message)"
   ]
  },
  {
   "cell_type": "code",
   "execution_count": null,
   "id": "4f6f9ad0-85c5-498e-9a6f-a172f9ab21c9",
   "metadata": {},
   "outputs": [],
   "source": []
  }
 ],
 "metadata": {
  "kernelspec": {
   "display_name": "Python 3 (ipykernel)",
   "language": "python",
   "name": "python3"
  },
  "language_info": {
   "codemirror_mode": {
    "name": "ipython",
    "version": 3
   },
   "file_extension": ".py",
   "mimetype": "text/x-python",
   "name": "python",
   "nbconvert_exporter": "python",
   "pygments_lexer": "ipython3",
   "version": "3.11.7"
  }
 },
 "nbformat": 4,
 "nbformat_minor": 5
}
