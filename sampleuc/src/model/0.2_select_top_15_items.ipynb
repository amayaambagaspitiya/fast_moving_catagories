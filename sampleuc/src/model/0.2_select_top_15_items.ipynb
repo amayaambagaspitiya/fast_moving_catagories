{
 "cells": [
  {
   "cell_type": "markdown",
   "id": "b18acb58-eaf7-446d-9f8a-f1f9beff8cb1",
   "metadata": {},
   "source": [
    "function to get top 5 categories from each department"
   ]
  },
  {
   "cell_type": "code",
   "execution_count": 1,
   "id": "43184ac3-5880-479a-9f00-6c196e791653",
   "metadata": {},
   "outputs": [],
   "source": [
    "def top_5_categories(trx, item):\n",
    "    \"\"\"\n",
    "    Identify the top 5 categories within each department based on total sales quantity.\n",
    "\n",
    "    Args:\n",
    "    - trx: DataFrame, the transaction data containing item codes and sales quantities\n",
    "    - item: DataFrame, the item data containing item codes and category descriptions\n",
    "\n",
    "    Returns:\n",
    "    - DataFrame: A DataFrame containing the top 5 categories within each department based on total sales quantity\n",
    "    \"\"\"\n",
    "    # Join transaction data with item data on stg_item_cd\n",
    "    top_categories = (\n",
    "        trx\n",
    "        .join(\n",
    "            item,\n",
    "            on=\"stg_item_cd\",\n",
    "            how=\"inner\"\n",
    "        )\n",
    "        .groupBy(\n",
    "            \"stg_item_dept_desc_txt\", \"stg_item_category_desc_txt\"\n",
    "        )\n",
    "        .agg(\n",
    "            f.sum(\"sales_qty\").alias(\"total_sales_qty\")\n",
    "        )\n",
    "    )\n",
    "\n",
    "    # Define window specification for ranking within each department\n",
    "    window_spec = Window.partitionBy(\"stg_item_dept_desc_txt\").orderBy(f.col(\"total_sales_qty\").desc())\n",
    "\n",
    "    # Add rank column based on total_sales_qty within each department\n",
    "    top_categories = top_categories.withColumn(\"rank\", f.row_number().over(window_spec))\n",
    "\n",
    "    # Filter top 5 categories within each department\n",
    "    top_5 = top_categories.filter(f.col(\"rank\") <= 5).drop(\"rank\")\n",
    "\n",
    "    return top_5\n",
    "\n"
   ]
  },
  {
   "cell_type": "markdown",
   "id": "510dd189-2739-42f8-86ea-e1ad49b00e0c",
   "metadata": {},
   "source": [
    "To get the weekly sales for top 5 categories in each department"
   ]
  },
  {
   "cell_type": "code",
   "execution_count": 1,
   "id": "3638c13c-c2a2-4818-b864-82f913714dab",
   "metadata": {},
   "outputs": [],
   "source": [
    "def weekly_sales_df(trx, item_info) :\n",
    "    \"\"\"\n",
    "    Calculate the weekly sales quantities for the top 5 categories within each department.\n",
    "\n",
    "    Args:\n",
    "    - trx: DataFrame, the transaction data containing item codes, sales quantities, and dates\n",
    "    - item_info: DataFrame, the item data containing item codes and category descriptions\n",
    "\n",
    "    Returns:\n",
    "    - DataFrame: A DataFrame containing the weekly sales quantities for the top 5 categories within each department\n",
    "    \"\"\"\n",
    "    # Identify the top 5 categories within each department\n",
    "    top_5_cats = top_5_categories(trx, item_info)\n",
    "\n",
    "    # Compute weekly sales for top 5 categories\n",
    "    weekly_sales = (\n",
    "        trx\n",
    "        .join(\n",
    "            item_info,\n",
    "            on=\"stg_item_cd\",\n",
    "            how=\"inner\"\n",
    "        )\n",
    "        .filter(f.col(\"stg_item_category_desc_txt\").isin([row.stg_item_category_desc_txt for row in top_5_cats.select(\"stg_item_category_desc_txt\").collect()]))\n",
    "        .groupBy(\"stg_outlet_cd\", \"week\", \"stg_item_category_desc_txt\")\n",
    "        .agg(f.sum(\"sales_qty\").alias(\"weekly_sales_qty\"))\n",
    "        .orderBy(\"stg_outlet_cd\", \"stg_item_category_desc_txt\", \"week\")\n",
    "    )\n",
    "\n",
    "    return weekly_sales"
   ]
  },
  {
   "cell_type": "markdown",
   "id": "08edb1e7-1a8f-4667-8b94-0e537a913a66",
   "metadata": {},
   "source": [
    "function to get final categories"
   ]
  },
  {
   "cell_type": "code",
   "execution_count": null,
   "id": "ef6893b3-c90d-4e7a-b0d4-a35b3aa93af3",
   "metadata": {},
   "outputs": [],
   "source": [
    "def get_final_categories(transaction, item_info): \n",
    "    \"\"\"\n",
    "    Given transaction and item_info DataFrames, returns the distinct final top 5 categories in each department.\n",
    "\n",
    "    Args:\n",
    "        transaction (DataFrame): DataFrame containing transaction data.\n",
    "        item_info (DataFrame): DataFrame containing item information.\n",
    "\n",
    "    Returns:\n",
    "        DataFrame: A DataFrame with distinct final categories.\n",
    "    \"\"\"\n",
    "    final_top_5_category = top_5_categories(transaction, item_info)\n",
    "    final_categories = final_top_5_category.select(\"stg_item_category_desc_txt\").distinct()\n",
    "    return final_categories"
   ]
  },
  {
   "cell_type": "code",
   "execution_count": null,
   "id": "de77a7c7-6514-4157-9909-5af6d49218a9",
   "metadata": {},
   "outputs": [],
   "source": []
  }
 ],
 "metadata": {
  "kernelspec": {
   "display_name": "Python 3 (ipykernel)",
   "language": "python",
   "name": "python3"
  },
  "language_info": {
   "codemirror_mode": {
    "name": "ipython",
    "version": 3
   },
   "file_extension": ".py",
   "mimetype": "text/x-python",
   "name": "python",
   "nbconvert_exporter": "python",
   "pygments_lexer": "ipython3",
   "version": "3.11.7"
  }
 },
 "nbformat": 4,
 "nbformat_minor": 5
}
