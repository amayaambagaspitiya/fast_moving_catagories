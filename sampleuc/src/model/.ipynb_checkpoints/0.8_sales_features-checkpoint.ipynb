{
 "cells": [
  {
   "cell_type": "code",
   "execution_count": 4,
   "id": "c45faa13-a60f-4575-a34b-694e3da35167",
   "metadata": {},
   "outputs": [],
   "source": [
    "def calculate_sales_features(primary_key_with_weekly_sales_df):\n",
    "    \"\"\"\n",
    "    Calculates sales features (averages) for the specified window size.\n",
    "\n",
    "    Args:\n",
    "        df (DataFrame): Input DataFrame containing columns 'stg_outlet_cd', 'stg_item_category_desc_txt', 'week', and 'weekly_sales_qty'.\n",
    "        window_size (int): Size of the rolling window for calculating averages (default is 4).\n",
    "\n",
    "    Returns:\n",
    "        DataFrame: A new DataFrame with additional columns for average sales over the specified window size.\n",
    "    \"\"\"\n",
    "    window_spec = Window.partitionBy(\"stg_outlet_cd\", \"stg_item_category_desc_txt\").orderBy(\"week\")\n",
    "   \n",
    "    # Calculate averages for last 2, 3, and 4 weeks\n",
    "    df = (\n",
    "    primary_key_with_weekly_sales_df \n",
    "    .withColumn(\n",
    "        \"avg_last_2_weeks\",\n",
    "        f.avg(f.col(\"weekly_sales_qty\")).over(window_spec.rowsBetween(-1, 0))\n",
    "        )\n",
    "    .withColumn(\n",
    "        \"avg_last_3_weeks\", \n",
    "        f.avg(f.col(\"weekly_sales_qty\")).over(window_spec.rowsBetween(-2, 0))\n",
    "        ) \n",
    "    .withColumn(\n",
    "        \"avg_last_4_weeks\",\n",
    "        f.avg(f.col(\"weekly_sales_qty\")).over(window_spec.rowsBetween(-3, 0))\n",
    "        )\n",
    "    )\n",
    "    \n",
    "    return df"
   ]
  },
  {
   "cell_type": "code",
   "execution_count": null,
   "id": "b8d79e0d-7099-4f3d-b1af-71d891280aea",
   "metadata": {},
   "outputs": [],
   "source": []
  }
 ],
 "metadata": {
  "kernelspec": {
   "display_name": "Python 3 (ipykernel)",
   "language": "python",
   "name": "python3"
  },
  "language_info": {
   "codemirror_mode": {
    "name": "ipython",
    "version": 3
   },
   "file_extension": ".py",
   "mimetype": "text/x-python",
   "name": "python",
   "nbconvert_exporter": "python",
   "pygments_lexer": "ipython3",
   "version": "3.11.7"
  }
 },
 "nbformat": 4,
 "nbformat_minor": 5
}
