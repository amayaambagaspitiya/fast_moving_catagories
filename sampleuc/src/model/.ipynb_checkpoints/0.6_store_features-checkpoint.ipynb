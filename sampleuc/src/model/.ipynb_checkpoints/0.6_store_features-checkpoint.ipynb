{
 "cells": [
  {
   "cell_type": "code",
   "execution_count": 3,
   "id": "191d1624-5e0f-450e-a553-53929bfc6b6c",
   "metadata": {},
   "outputs": [],
   "source": [
    "def select_and_filter_store_info(preprocess_store_info):\n",
    "    \"\"\"\n",
    "    Selects specific columns and filters based on stg_outlet_cd values.\n",
    "\n",
    "    Args:\n",
    "        preprocess_store_info: Input DataFrame containing store information.\n",
    "\n",
    "    Returns:\n",
    "        pyspark.sql.DataFrame: DataFrame with selected columns and filtered rows.\n",
    "    \"\"\"\n",
    "    store_info_selected = preprocess_store_info.select(\n",
    "        \"stg_population_within_1km_val\",\n",
    "        \"stg_outlet_cd\",\n",
    "        \"stg_no_of_compet_supermarket_val\",\n",
    "        \"stg_outlet_profile_cat\",\n",
    "        \"stg_outlet_cluster_cat\"\n",
    "    )\n",
    "    return store_info_selected\n",
    "\n"
   ]
  },
  {
   "cell_type": "code",
   "execution_count": null,
   "id": "eb5ee3ee-64e5-4bc4-a080-e1a4f3c99730",
   "metadata": {},
   "outputs": [],
   "source": []
  }
 ],
 "metadata": {
  "kernelspec": {
   "display_name": "Python 3 (ipykernel)",
   "language": "python",
   "name": "python3"
  },
  "language_info": {
   "codemirror_mode": {
    "name": "ipython",
    "version": 3
   },
   "file_extension": ".py",
   "mimetype": "text/x-python",
   "name": "python",
   "nbconvert_exporter": "python",
   "pygments_lexer": "ipython3",
   "version": "3.11.7"
  }
 },
 "nbformat": 4,
 "nbformat_minor": 5
}
