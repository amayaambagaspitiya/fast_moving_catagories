{
 "cells": [
  {
   "cell_type": "code",
   "execution_count": 3,
   "id": "19897766-32e6-4650-a387-ac1933f4a5d8",
   "metadata": {},
   "outputs": [],
   "source": [
    "def primary_with_store(primary_key_table,preprocess_store_info_df ):\n",
    "    \"\"\"\n",
    "    Joins the primary_key_table with store_features based on the \\\"stg_outlet_cd\\\" column.\n",
    "\n",
    "    Args:\n",
    "        primary_key_table : The primary dataframe (primary_key_table).\n",
    "        preprocess_store_info : The store features dataframe.\n",
    "\n",
    "    Returns:\n",
    "        pyspark.sql.DataFrame: The joined dataframe.\n",
    "    \"\"\"\n",
    "    \n",
    "    joined_df = (\n",
    "        primary_key_table\n",
    "        .join(\n",
    "            preprocess_store_info_df,\n",
    "            on=[\"stg_outlet_cd\"],\n",
    "            how=\"left\")\n",
    "    )\n",
    "    return joined_df"
   ]
  },
  {
   "cell_type": "code",
   "execution_count": 1,
   "id": "14e6ff37-185a-483b-b3ad-8493554b6a41",
   "metadata": {},
   "outputs": [],
   "source": [
    "def joined_df(store_features,sales_features,items_features,time_features):\n",
    "  joined_df = (\n",
    "    store_features\n",
    "    .join(\n",
    "        sales_features,\n",
    "        on=[\"week\", \"stg_outlet_cd\", \"stg_item_category_desc_txt\"],\n",
    "        how=\"left\"\n",
    "         )\n",
    "     .join(\n",
    "         items_features,\n",
    "         on=[\"week\", \"stg_outlet_cd\", \"stg_item_category_desc_txt\"],\n",
    "         how=\"left\"\n",
    "         )\n",
    "      .join(\n",
    "          time_features,\n",
    "          on=[\"week\", \"stg_outlet_cd\", \"stg_item_category_desc_txt\"],\n",
    "          how=\"left\"\n",
    "          )\n",
    "      )\n",
    "  return joined_df\n"
   ]
  },
  {
   "cell_type": "code",
   "execution_count": 16,
   "id": "02dfe056-d0d3-4943-b0f3-71192d6b3ac2",
   "metadata": {},
   "outputs": [],
   "source": [
    "def create_master_table(joined_df,primary_key_table_with_target_variable):\n",
    "  master_table=(\n",
    "      joined_df\n",
    "      .join(\n",
    "          primary_key_table_with_target_variable,\n",
    "          on=[\"week\",\"stg_outlet_cd\",\"stg_item_category_desc_txt\"],\n",
    "          how=\"left\")\n",
    "  )\n",
    "  columns_to_drop= [\"weekly_sales_qty\",\"week_date\"]\n",
    "  master_table=master_table.drop(*columns_to_drop)\n",
    "  master_table = master_table.filter(master_table[\"next_week_qty\"] != 0)\n",
    "  return master_table"
   ]
  },
  {
   "cell_type": "code",
   "execution_count": 27,
   "id": "1cd0f3e2-22fb-4715-ae90-54aa939bb9a3",
   "metadata": {},
   "outputs": [],
   "source": [
    "def drop_first_three_weeks(master_table):\n",
    "    # Find the minimum week date\n",
    "    min_week_date = master_table.agg(f.min(\"week\")).collect()[0][0]\n",
    "    \n",
    "    # Define the date format\n",
    "    date_format = \"%Y-%m-%d\"\n",
    "    \n",
    "    # Add 21 days to the minimum week date\n",
    "    new_date_obj = min_week_date + timedelta(days=7*3)\n",
    "    \n",
    "    # Convert the new date object to a string\n",
    "    new_date_string = new_date_obj.strftime(date_format)\n",
    "    \n",
    "    # Filter the master table based on the new date\n",
    "    df_filtered_master_table = master_table.filter(f.col(\"week\") >= new_date_string)\n",
    "    \n",
    "    # Return the filtered DataFrame\n",
    "    return df_filtered_master_table"
   ]
  },
  {
   "cell_type": "code",
   "execution_count": null,
   "id": "443340aa-8bee-4528-bac8-cdb0f9ce6be2",
   "metadata": {},
   "outputs": [],
   "source": []
  }
 ],
 "metadata": {
  "kernelspec": {
   "display_name": "Python 3 (ipykernel)",
   "language": "python",
   "name": "python3"
  },
  "language_info": {
   "codemirror_mode": {
    "name": "ipython",
    "version": 3
   },
   "file_extension": ".py",
   "mimetype": "text/x-python",
   "name": "python",
   "nbconvert_exporter": "python",
   "pygments_lexer": "ipython3",
   "version": "3.11.7"
  }
 },
 "nbformat": 4,
 "nbformat_minor": 5
}
