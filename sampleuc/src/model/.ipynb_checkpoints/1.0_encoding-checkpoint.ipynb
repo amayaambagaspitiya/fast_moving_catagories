{
 "cells": [
  {
   "cell_type": "code",
   "execution_count": null,
   "id": "a960fb30-0427-4d06-a42d-71d53c2ac368",
   "metadata": {},
   "outputs": [],
   "source": [
    "def encode_columns(conf, df):\n",
    "    \"\"\"\n",
    "    Encodes the specified columns of a DataFrame using StringIndexer and OneHotEncoder, \n",
    "    and drops the original columns. Converts 'week' column to numerical.\n",
    "\n",
    "    Parameters:\n",
    "    conf (dict): Configuration dictionary containing the columns to encode.\n",
    "    df (DataFrame): The input DataFrame.\n",
    "\n",
    "    Returns:\n",
    "    DataFrame: The DataFrame with the specified columns encoded and original columns dropped.\n",
    "    \"\"\"\n",
    "    # Convert 'week' column from date to numerical (timestamp)\n",
    "    df = df.withColumn(\"week_numeric\", f.unix_timestamp(\"week\"))\n",
    "    \n",
    "    # Extract columns to encode from configuration\n",
    "    columns = conf[\"columns_to_encode\"]\n",
    "    \n",
    "    for column in columns:\n",
    "        indexer = StringIndexer(inputCol=column, outputCol=f\"{column}_index\")\n",
    "        df = indexer.fit(df).transform(df)\n",
    "\n",
    "        encoder = OneHotEncoder(inputCol=f\"{column}_index\", outputCol=f\"{column}_encoded\")\n",
    "        df = encoder.fit(df).transform(df)\n",
    "\n",
    "    return df\n"
   ]
  }
 ],
 "metadata": {
  "kernelspec": {
   "display_name": "Python 3 (ipykernel)",
   "language": "python",
   "name": "python3"
  },
  "language_info": {
   "codemirror_mode": {
    "name": "ipython",
    "version": 3
   },
   "file_extension": ".py",
   "mimetype": "text/x-python",
   "name": "python",
   "nbconvert_exporter": "python",
   "pygments_lexer": "ipython3",
   "version": "3.11.7"
  }
 },
 "nbformat": 4,
 "nbformat_minor": 5
}
