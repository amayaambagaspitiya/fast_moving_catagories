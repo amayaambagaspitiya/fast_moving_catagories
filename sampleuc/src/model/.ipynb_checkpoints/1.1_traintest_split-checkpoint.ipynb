{
 "cells": [
  {
   "cell_type": "code",
   "execution_count": null,
   "id": "b1c59ee4-b8b3-4bfd-ac32-56acbec9b07f",
   "metadata": {},
   "outputs": [],
   "source": [
    "def split_dataframe_by_rank(encoded_df):\n",
    "    \"\"\"\n",
    "    Splits the given DataFrame into train and test sets based on rank.\n",
    "    \n",
    "    Parameters:\n",
    "    encoded_df (DataFrame): Input DataFrame to be split.\n",
    "    \n",
    "    Returns:\n",
    "    (DataFrame, DataFrame): Train and Test DataFrames.\n",
    "    \"\"\"\n",
    "    # Define window specification\n",
    "    window_spec = Window.orderBy(\"week\")\n",
    "    \n",
    "    # Add rank column\n",
    "    df_ranked = encoded_df.withColumn(\"rank\", f.dense_rank().over(window_spec))\n",
    "    \n",
    "    # Split the data into train and test sets\n",
    "    train_df = df_ranked.filter(f.col(\"rank\") <= 28) #train 80%\n",
    "    test_df = df_ranked.filter(f.col(\"rank\") > 28)   #test  20%\n",
    "    \n",
    "    return train_df, test_df"
   ]
  }
 ],
 "metadata": {
  "kernelspec": {
   "display_name": "Python 3 (ipykernel)",
   "language": "python",
   "name": "python3"
  },
  "language_info": {
   "codemirror_mode": {
    "name": "ipython",
    "version": 3
   },
   "file_extension": ".py",
   "mimetype": "text/x-python",
   "name": "python",
   "nbconvert_exporter": "python",
   "pygments_lexer": "ipython3",
   "version": "3.11.7"
  }
 },
 "nbformat": 4,
 "nbformat_minor": 5
}
