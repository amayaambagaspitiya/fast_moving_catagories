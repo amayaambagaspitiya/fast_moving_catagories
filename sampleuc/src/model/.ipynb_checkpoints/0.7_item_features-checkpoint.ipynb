{
 "cells": [
  {
   "cell_type": "code",
   "execution_count": 3,
   "id": "06c771b0-a2b4-4396-ae2d-49befa84dc90",
   "metadata": {},
   "outputs": [],
   "source": [
    "def primary_with_item(primary_key_table,preprocess_item_info):\n",
    "  primary_key_table_with_item=(\n",
    "      primary_key_table\n",
    "      .join(\n",
    "          preprocess_item_info,\n",
    "          on=\"stg_item_category_desc_txt\",\n",
    "          how=\"left\"\n",
    "      )\n",
    "  )\n",
    "  return primary_key_table_with_item "
   ]
  },
  {
   "cell_type": "code",
   "execution_count": 5,
   "id": "f8753592-a3e5-473e-860a-9d42eee1b246",
   "metadata": {},
   "outputs": [],
   "source": [
    "def calculate_items_per_week(primary_key_table_with_item):\n",
    "    \"\"\"\n",
    "    Calculates the number of distinct items for each combination of outlet, item category, and week.\n",
    "\n",
    "    Args:\n",
    "        primary_key_table_with_item: Input DataFrame containing columns 'stg_outlet_cd', 'stg_item_category_desc_txt', and 'stg_item_cd'.\n",
    "\n",
    "    Returns:\n",
    "        DataFrame: A new DataFrame with columns 'stg_outlet_cd', 'stg_item_category_desc_txt', 'week', and 'number of items_for_each_week'.\n",
    "    \"\"\"\n",
    "    result_df = (\n",
    "        primary_key_table_with_item\n",
    "        .groupBy(\n",
    "            \"stg_outlet_cd\", \"stg_item_category_desc_txt\", \"week\"\n",
    "        )\n",
    "        .agg(\n",
    "            f.countDistinct(\"stg_item_cd\").alias(\"number of items_for_each_week\")\n",
    "        )\n",
    "    )\n",
    "    return result_df\n",
    "\n",
    "\n"
   ]
  },
  {
   "cell_type": "code",
   "execution_count": null,
   "id": "64e26b06-2a9f-49e7-beb9-aae3750aa6ec",
   "metadata": {},
   "outputs": [],
   "source": []
  }
 ],
 "metadata": {
  "kernelspec": {
   "display_name": "Python 3 (ipykernel)",
   "language": "python",
   "name": "python3"
  },
  "language_info": {
   "codemirror_mode": {
    "name": "ipython",
    "version": 3
   },
   "file_extension": ".py",
   "mimetype": "text/x-python",
   "name": "python",
   "nbconvert_exporter": "python",
   "pygments_lexer": "ipython3",
   "version": "3.11.7"
  }
 },
 "nbformat": 4,
 "nbformat_minor": 5
}
