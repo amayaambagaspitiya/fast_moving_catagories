{
 "cells": [
  {
   "cell_type": "code",
   "execution_count": null,
   "id": "4f5f19e4-d423-45ef-b9e5-c7631d50a0d4",
   "metadata": {},
   "outputs": [],
   "source": [
    "def assemble_features(conf,df, output_col=\"features\"):\n",
    "    \"\"\"\n",
    "    Combines the specified feature columns into a single vector column using VectorAssembler.\n",
    "\n",
    "    Parameters:\n",
    "    conf (dict): Configuration dictionary containing the feature columns to be combined.\n",
    "    df (DataFrame): The input DataFrame.\n",
    "    feature_columns (list): The list of feature column names to be combined into a single vector column.\n",
    "    output_col (str): The name of the output vector column. Default is \"features\".\n",
    "\n",
    "    Returns:\n",
    "    DataFrame: The DataFrame with the specified feature columns combined into a single vector column.\n",
    "    \"\"\"\n",
    "    # Initialize VectorAssembler to combine all feature columns into a single vector column\n",
    "    assembler = VectorAssembler(inputCols=conf[\"feature_columns\"], outputCol=output_col)\n",
    "    \n",
    "    # Transform the DataFrame using the VectorAssembler\n",
    "    df_final = assembler.transform(df)\n",
    "    \n",
    "    return df_final"
   ]
  },
  {
   "cell_type": "code",
   "execution_count": null,
   "id": "8fdc2182-a084-4d46-aedf-d0a98d8548a7",
   "metadata": {},
   "outputs": [],
   "source": [
    "def train_and_predict( label_col,train_df,test_df):\n",
    "    \"\"\"\n",
    "    Trains a linear regression model and makes predictions on the test set.\n",
    "   \n",
    "    Returns:\n",
    "    DataFrame: The DataFrame with predictions on the test set.\n",
    "    \"\"\"\n",
    "    # Define the linear regression model\n",
    "    lr = LinearRegression(featuresCol=\"features\", labelCol=label_col)\n",
    "    \n",
    "    # Train the model\n",
    "    lr_model = lr.fit(train_df)\n",
    "    \n",
    "    # Make predictions on test data\n",
    "    predictions = lr_model.transform(test_df)\n",
    "    predictions = predictions.select(\"week\",\"stg_item_category_desc_txt\",\"stg_outlet_cd\", \"next_week_qty\", \"prediction\")\n",
    "    \n",
    "    # Return predictions\n",
    "    return predictions"
   ]
  }
 ],
 "metadata": {
  "kernelspec": {
   "display_name": "Python 3 (ipykernel)",
   "language": "python",
   "name": "python3"
  },
  "language_info": {
   "codemirror_mode": {
    "name": "ipython",
    "version": 3
   },
   "file_extension": ".py",
   "mimetype": "text/x-python",
   "name": "python",
   "nbconvert_exporter": "python",
   "pygments_lexer": "ipython3",
   "version": "3.11.7"
  }
 },
 "nbformat": 4,
 "nbformat_minor": 5
}
