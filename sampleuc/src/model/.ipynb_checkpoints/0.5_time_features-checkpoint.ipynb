{
 "cells": [
  {
   "cell_type": "code",
   "execution_count": 17,
   "id": "670d3b88-704c-4eba-b015-c95f48f0db30",
   "metadata": {},
   "outputs": [],
   "source": [
    "def extract_month_year_week(final_df):\n",
    "    \"\"\"\n",
    "    Extracts month, year, and week information from the \"week\" column of the final_df DataFrame.\n",
    "\n",
    "    Args:\n",
    "        final_df DataFrame containing a \"week\" column.\n",
    "\n",
    "    Returns:\n",
    "        transaction_with_month_week: DataFrame with additional columns \"month\", \"year\", and \"week_of_year\".\n",
    "    \"\"\"\n",
    "    transaction_with_month_week = (\n",
    "        final_df\n",
    "        .withColumn(\"month\", f.month(f.col(\"week\")))\n",
    "        .withColumn(\"year\", f.year(f.col(\"week\")))\n",
    "        .withColumn(\"week_of_year\", f.weekofyear(f.col(\"week\")))\n",
    "    )\n",
    "    return transaction_with_month_week\n"
   ]
  },
  {
   "cell_type": "code",
   "execution_count": 2,
   "id": "47b47b12-3fbc-4bd3-9578-70739b3bd40a",
   "metadata": {},
   "outputs": [],
   "source": [
    "def create_seasonal_column(final_df):\n",
    "    \"\"\"\n",
    "    Creates a binary column indicating if the month is April (seasonal).\n",
    "\n",
    "    Args:\n",
    "        final_df: Input DataFrame containing a \"week\" column.\n",
    "\n",
    "    Returns:\n",
    "        seasonal_col_in_final_df: DataFrame with an additional \"is_seasonal\" column.\n",
    "    \"\"\"\n",
    "    transaction_with_month_week = extract_month_year_week(final_df)\n",
    "    \n",
    "    # Create a binary column indicating if the month is April\n",
    "    seasonal_col_in_final_df = (\n",
    "        transaction_with_month_week\n",
    "        .withColumn(\n",
    "            \"is_seasonal\",\n",
    "            f.when(\n",
    "                f.col(\"month\") == 4, 1).otherwise(0)\n",
    "        )\n",
    "    )\n",
    "                               \n",
    "                              \n",
    "    \n",
    "    return seasonal_col_in_final_df\n",
    "\n"
   ]
  },
  {
   "cell_type": "code",
   "execution_count": null,
   "id": "fc490e76-6d65-4a03-ba7a-7e00d25da087",
   "metadata": {},
   "outputs": [],
   "source": []
  }
 ],
 "metadata": {
  "kernelspec": {
   "display_name": "Python 3 (ipykernel)",
   "language": "python",
   "name": "python3"
  },
  "language_info": {
   "codemirror_mode": {
    "name": "ipython",
    "version": 3
   },
   "file_extension": ".py",
   "mimetype": "text/x-python",
   "name": "python",
   "nbconvert_exporter": "python",
   "pygments_lexer": "ipython3",
   "version": "3.11.7"
  }
 },
 "nbformat": 4,
 "nbformat_minor": 5
}
