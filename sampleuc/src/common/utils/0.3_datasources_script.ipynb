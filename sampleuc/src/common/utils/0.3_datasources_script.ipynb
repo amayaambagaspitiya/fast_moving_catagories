{
 "cells": [
  {
   "cell_type": "code",
   "execution_count": 13,
   "id": "0fa710da-7a16-42db-96e0-4f8350440393",
   "metadata": {},
   "outputs": [],
   "source": [
    "def get_datasources(conf):\n",
    "    \n",
    "    \"\"\"  \n",
    "         Returns:\n",
    "                 Returns required datasources\n",
    "                 df_item_info, transaction,store_info\n",
    "\n",
    "         params: \n",
    "                 conf : configuration file\n",
    "    \"\"\"\n",
    "    \n",
    "    \n",
    "    datasources = {\n",
    "        \"item_info\":get_item_info(conf),\n",
    "        \"transaction\":get_transaction_info(conf),\n",
    "        \"store_info\":get_store_info(conf)\n",
    "    }\n",
    "    \n",
    "    return datasources"
   ]
  },
  {
   "cell_type": "code",
   "execution_count": null,
   "id": "b7471942-d888-4a05-ab23-dc0068574080",
   "metadata": {},
   "outputs": [],
   "source": []
  },
  {
   "cell_type": "code",
   "execution_count": null,
   "id": "6f24bf18-c8b3-4ee0-b5c6-11401ec065f6",
   "metadata": {},
   "outputs": [],
   "source": []
  }
 ],
 "metadata": {
  "kernelspec": {
   "display_name": "Python 3 (ipykernel)",
   "language": "python",
   "name": "python3"
  },
  "language_info": {
   "codemirror_mode": {
    "name": "ipython",
    "version": 3
   },
   "file_extension": ".py",
   "mimetype": "text/x-python",
   "name": "python",
   "nbconvert_exporter": "python",
   "pygments_lexer": "ipython3",
   "version": "3.11.7"
  }
 },
 "nbformat": 4,
 "nbformat_minor": 5
}
