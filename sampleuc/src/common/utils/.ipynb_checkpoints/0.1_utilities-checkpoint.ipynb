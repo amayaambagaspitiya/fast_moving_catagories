{
 "cells": [
  {
   "cell_type": "code",
   "execution_count": 1,
   "id": "986740f4-abb6-42d5-8770-e1751f50a34c",
   "metadata": {},
   "outputs": [],
   "source": [
    "#import pyspark\n",
    "import pyspark"
   ]
  },
  {
   "cell_type": "code",
   "execution_count": 14,
   "id": "52858c73-e66d-4263-aca8-32f117383d88",
   "metadata": {},
   "outputs": [],
   "source": [
    "from pyspark.sql import DataFrame\n",
    "from pyspark.sql import SparkSession\n",
    "from pyspark.sql.window import Window\n",
    "from pyspark.sql import functions as f\n",
    "from datetime import datetime, timedelta\n",
    "from itertools import product\n",
    "import matplotlib.pyplot as plt\n",
    "from pyspark.sql.window import Window\n",
    "import seaborn as sns\n",
    "from pyspark.ml.feature import StringIndexer, OneHotEncoder\n",
    "from pyspark.ml.feature import VectorAssembler\n",
    "from pyspark.ml.regression import LinearRegression\n",
    "from pyspark.ml.evaluation import RegressionEvaluator\n",
    "from pyspark.sql.functions import abs\n",
    "import logging\n",
    "import logging.config\n",
    "from logging.handlers import RotatingFileHandler\n",
    "import yaml\n",
    "import time\n",
    "import os\n"
   ]
  },
  {
   "cell_type": "markdown",
   "id": "b69e2579-64b5-45e4-971e-dabaa652f847",
   "metadata": {},
   "source": [
    "Initializing spark session"
   ]
  },
  {
   "cell_type": "code",
   "execution_count": 5,
   "id": "60b4d8bc-214b-4320-8749-5d83d65da5f9",
   "metadata": {},
   "outputs": [],
   "source": [
    "spark = SparkSession.builder.appName(\"SalesForecasting\").getOrCreate()\n"
   ]
  },
  {
   "cell_type": "code",
   "execution_count": 10,
   "id": "74826f07-ef1b-4eac-8d12-e660ffed8741",
   "metadata": {},
   "outputs": [],
   "source": [
    "def set_logging_conf(logging_conf_path, module_conf):\n",
    "    \"\"\"\n",
    " \n",
    "    Set logging configurations\n",
    " \n",
    "    \"\"\"\n",
    "    with open(logging_conf_path, \"r\") as log_file:\n",
    "        log_cfg = yaml.safe_load(log_file.read())\n",
    " \n",
    "    logging.config.dictConfig(log_cfg)\n",
    " \n",
    "    for handler in logging.root.handlers[:]:\n",
    "        logging.root.removeHandler(handler)\n",
    " \n",
    "    module_logger = logging.getLogger(module_conf)\n",
    "    module_logger.setLevel(logging.INFO)\n",
    " \n",
    "    return module_logger"
   ]
  },
  {
   "cell_type": "code",
   "execution_count": null,
   "id": "574151e7-4439-44e5-be38-f141c52b9021",
   "metadata": {},
   "outputs": [],
   "source": [
    "# def set_logging_conf(conf):\n",
    "    \n",
    "#     \"\"\"  Returns:\n",
    "#                  logger : log module. set logging configuration.\n",
    "\n",
    "#          params: \n",
    "#                  conf : configuration file\n",
    "#     \"\"\"\n",
    "\n",
    "#     logging_conf_path = conf[\"paths\"][\"logger_file_path\"]\n",
    "#     with open(logging_conf_path, \"r\") as f:\n",
    "#         log_cfg = yaml.safe_load(f.read())\n",
    "\n",
    "#     logging.config.dictConfig(log_cfg)\n",
    "#     logging.captureWarnings(True)\n",
    "\n",
    "#     logger = logging.getLogger(\"log_module\")\n",
    "#     logging.getLogger(\"numexpr.utils\").setLevel(logging.WARNING)\n",
    "    \n",
    "    \n",
    "#     return logger"
   ]
  },
  {
   "cell_type": "code",
   "execution_count": null,
   "id": "3babe6bf-60c1-4334-9179-f83f4abd2af9",
   "metadata": {},
   "outputs": [],
   "source": []
  }
 ],
 "metadata": {
  "kernelspec": {
   "display_name": "Python 3 (ipykernel)",
   "language": "python",
   "name": "python3"
  },
  "language_info": {
   "codemirror_mode": {
    "name": "ipython",
    "version": 3
   },
   "file_extension": ".py",
   "mimetype": "text/x-python",
   "name": "python",
   "nbconvert_exporter": "python",
   "pygments_lexer": "ipython3",
   "version": "3.11.7"
  }
 },
 "nbformat": 4,
 "nbformat_minor": 5
}
