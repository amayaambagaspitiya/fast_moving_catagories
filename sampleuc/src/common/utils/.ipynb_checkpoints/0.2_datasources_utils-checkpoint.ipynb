{
 "cells": [
  {
   "cell_type": "code",
   "execution_count": 1,
   "id": "7f5902e5-b505-491d-984c-11f3538cb6fb",
   "metadata": {},
   "outputs": [],
   "source": [
    "def get_transaction_info(conf):\n",
    "    \n",
    "    \"\"\"  Returns:\n",
    "                 transaction :transaction dataframe\n",
    "\n",
    "         params: \n",
    "                 conf : configuration file\n",
    "    \"\"\"\n",
    "    \n",
    "    item_info = spark.read.csv(conf['paths']['transaction'], header=True)\n",
    "    \n",
    "    return item_info"
   ]
  },
  {
   "cell_type": "code",
   "execution_count": 1,
   "id": "3824ae34-8d66-458c-bc7e-e34bb1414e29",
   "metadata": {},
   "outputs": [],
   "source": [
    "def get_item_info(conf):\n",
    "    \n",
    "    \"\"\"  Returns:\n",
    "                 item_info : item_info dataframe\n",
    "\n",
    "         params: \n",
    "                 conf : configuration file\n",
    "    \"\"\"\n",
    "    \n",
    "    item_info = spark.read.csv(conf['paths']['item_info'], header=True)\n",
    "    \n",
    "    return item_info"
   ]
  },
  {
   "cell_type": "code",
   "execution_count": 5,
   "id": "d78cc870-02f5-4e21-8767-5023cbdd086c",
   "metadata": {},
   "outputs": [],
   "source": [
    "def get_store_info(conf):\n",
    "    \n",
    "    \"\"\"  Returns:\n",
    "                 store_info : store_info dataframe\n",
    "         params: \n",
    "                 conf : configuration file\n",
    "    \"\"\"\n",
    "    \n",
    "    store_info= spark.read.csv(conf['paths']['store_info'], header=True)\n",
    "    \n",
    "    return item_info"
   ]
  },
  {
   "cell_type": "code",
   "execution_count": null,
   "id": "2c46362e-28f3-4d02-878b-bfbd4906cde1",
   "metadata": {},
   "outputs": [],
   "source": []
  }
 ],
 "metadata": {
  "kernelspec": {
   "display_name": "Python 3 (ipykernel)",
   "language": "python",
   "name": "python3"
  },
  "language_info": {
   "codemirror_mode": {
    "name": "ipython",
    "version": 3
   },
   "file_extension": ".py",
   "mimetype": "text/x-python",
   "name": "python",
   "nbconvert_exporter": "python",
   "pygments_lexer": "ipython3",
   "version": "3.11.7"
  }
 },
 "nbformat": 4,
 "nbformat_minor": 5
}
