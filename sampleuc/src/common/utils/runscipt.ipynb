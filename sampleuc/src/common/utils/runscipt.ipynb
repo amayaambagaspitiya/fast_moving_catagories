{
 "cells": [
  {
   "cell_type": "code",
   "execution_count": 3,
   "id": "b7278446-c04d-464c-bc03-3978153c5a32",
   "metadata": {},
   "outputs": [],
   "source": [
    "%run \"C:\\Users\\amayaa\\OneDrive - John Keells Holdings PLC\\Desktop\\sampleuc\\conf\\conf_script.ipynb\""
   ]
  },
  {
   "cell_type": "code",
   "execution_count": 5,
   "id": "e0f6d22f-1631-46e1-be2b-eee3ecaea086",
   "metadata": {},
   "outputs": [],
   "source": [
    "%run \"C:\\Users\\amayaa\\OneDrive - John Keells Holdings PLC\\Desktop\\sampleuc\\src\\common\\utils\\0.2_datasources_utils.ipynb\""
   ]
  },
  {
   "cell_type": "code",
   "execution_count": 7,
   "id": "4d9f3b0c-6086-466f-8837-ef24fad489e0",
   "metadata": {},
   "outputs": [],
   "source": [
    "%run \"C:\\Users\\amayaa\\OneDrive - John Keells Holdings PLC\\Desktop\\sampleuc\\src\\common\\utils\\0.3_datasources_script.ipynb\""
   ]
  },
  {
   "cell_type": "code",
   "execution_count": 9,
   "id": "dd18d0ed-be84-4c04-8217-182701a218f9",
   "metadata": {},
   "outputs": [],
   "source": [
    "%run \"C:\\Users\\amayaa\\OneDrive - John Keells Holdings PLC\\Desktop\\sampleuc\\src\\common\\utils\\0.1_utilities.ipynb\""
   ]
  },
  {
   "cell_type": "code",
   "execution_count": 10,
   "id": "a1506efd-424e-4792-851f-3c274d87666b",
   "metadata": {},
   "outputs": [],
   "source": [
    "%run \"C:\\Users\\amayaa\\OneDrive - John Keells Holdings PLC\\Desktop\\sampleuc\\src\\logging_configuration\\logging_configuration.ipynb\""
   ]
  },
  {
   "cell_type": "code",
   "execution_count": null,
   "id": "ab4b5423-4487-4bf2-b017-a7f3a7c09c6b",
   "metadata": {},
   "outputs": [],
   "source": []
  },
  {
   "cell_type": "code",
   "execution_count": null,
   "id": "91c5df80-1140-45ca-89e8-29aa3d0d1197",
   "metadata": {},
   "outputs": [],
   "source": []
  }
 ],
 "metadata": {
  "kernelspec": {
   "display_name": "Python 3 (ipykernel)",
   "language": "python",
   "name": "python3"
  },
  "language_info": {
   "codemirror_mode": {
    "name": "ipython",
    "version": 3
   },
   "file_extension": ".py",
   "mimetype": "text/x-python",
   "name": "python",
   "nbconvert_exporter": "python",
   "pygments_lexer": "ipython3",
   "version": "3.11.7"
  }
 },
 "nbformat": 4,
 "nbformat_minor": 5
}
