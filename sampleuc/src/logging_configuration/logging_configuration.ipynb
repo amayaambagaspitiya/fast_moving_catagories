{
 "cells": [
  {
   "cell_type": "code",
   "execution_count": 1,
   "id": "e18ce7be-3348-46b9-9458-a452ada4a766",
   "metadata": {},
   "outputs": [],
   "source": [
    "def loggers(conf):\n",
    "    \"\"\"\n",
    " \n",
    "    contains logging related details and paths\n",
    " \n",
    "    \"\"\"\n",
    " \n",
    "    logging_conf_path = conf[\"logs\"][\"logger_file\"]\n",
    "    module_conf_name = conf[\"logs\"][\"conf_name\"]\n",
    "    module_logs_filestore = conf[\"logs\"][\"file_store_path\"]\n",
    "    module_logs_driver = conf[\"logs\"][\"driver_path\"]\n",
    " \n",
    "    module_logger = set_logging_conf(logging_conf_path, module_conf_name)\n",
    "    os.makedirs(module_logs_driver, exist_ok=True) #data bricks\n",
    " \n",
    "    return module_logs_filestore, module_logs_driver, module_logger"
   ]
  },
  {
   "cell_type": "code",
   "execution_count": null,
   "id": "210b0497-15db-486d-a9cb-4971d842cf33",
   "metadata": {},
   "outputs": [],
   "source": []
  }
 ],
 "metadata": {
  "kernelspec": {
   "display_name": "Python 3 (ipykernel)",
   "language": "python",
   "name": "python3"
  },
  "language_info": {
   "codemirror_mode": {
    "name": "ipython",
    "version": 3
   },
   "file_extension": ".py",
   "mimetype": "text/x-python",
   "name": "python",
   "nbconvert_exporter": "python",
   "pygments_lexer": "ipython3",
   "version": "3.11.7"
  }
 },
 "nbformat": 4,
 "nbformat_minor": 5
}
